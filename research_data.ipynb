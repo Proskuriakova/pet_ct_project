{
 "cells": [
  {
   "cell_type": "code",
   "execution_count": 1,
   "metadata": {},
   "outputs": [],
   "source": [
    "import numpy as np\n",
    "import pandas as pd"
   ]
  },
  {
   "cell_type": "code",
   "execution_count": 2,
   "metadata": {},
   "outputs": [],
   "source": [
    "import cv2"
   ]
  },
  {
   "cell_type": "code",
   "execution_count": 3,
   "metadata": {},
   "outputs": [],
   "source": [
    "import torch.nn as nn\n",
    "import torch.nn.functional as F\n",
    "import torchvision.models as models\n",
    "import torch\n",
    "from tqdm import tqdm as tqdm"
   ]
  },
  {
   "cell_type": "code",
   "execution_count": 4,
   "metadata": {},
   "outputs": [
    {
     "data": {
      "text/plain": [
       "4"
      ]
     },
     "execution_count": 4,
     "metadata": {},
     "output_type": "execute_result"
    }
   ],
   "source": [
    "torch.cuda.device_count()"
   ]
  },
  {
   "cell_type": "code",
   "execution_count": 5,
   "metadata": {},
   "outputs": [
    {
     "data": {
      "text/plain": [
       "True"
      ]
     },
     "execution_count": 5,
     "metadata": {},
     "output_type": "execute_result"
    }
   ],
   "source": [
    "torch.cuda.is_available()"
   ]
  },
  {
   "cell_type": "code",
   "execution_count": 6,
   "metadata": {},
   "outputs": [
    {
     "name": "stdout",
     "output_type": "stream",
     "text": [
      "Tesla V100-PCIE-16GB\n",
      "Tesla V100-PCIE-16GB\n",
      "Tesla V100-PCIE-16GB\n",
      "Tesla V100-PCIE-16GB\n"
     ]
    }
   ],
   "source": [
    "for i in range(4):\n",
    "    print(torch.cuda.get_device_name(i))"
   ]
  },
  {
   "cell_type": "raw",
   "metadata": {},
   "source": [
    "import zstandard\n",
    "import pathlib\n",
    "destination_dir = 'data_examples/npy_exmpl'\n",
    "def decompress_zstandard_to_folder(input_file):\n",
    "    input_file = pathlib.Path(input_file)\n",
    "    with open(input_file, 'rb') as compressed:\n",
    "        decomp = zstandard.ZstdDecompressor()\n",
    "        output_path = pathlib.Path(destination_dir) / input_file.stem\n",
    "        with open(output_path, 'wb') as destination:\n",
    "            decomp.copy_stream(compressed, destination)"
   ]
  },
  {
   "cell_type": "code",
   "execution_count": 4,
   "metadata": {},
   "outputs": [],
   "source": [
    "from os import listdir\n",
    "import re\n",
    "\n",
    "directory_path = '/data/burenko/datasets/pet-ct'\n",
    "file_types = ['npy']\n",
    "imgs = {}\n",
    "text = []\n",
    "for dir_content in listdir(directory_path):\n",
    "    if dir_content.split('.')[-1] == 'npy':\n",
    "        vec = np.load(directory_path + '/' + dir_content)\n",
    "        imgs[dir_content.split('.')[0]] = vec\n",
    "    if dir_content.split('.')[-1] == 'txt':\n",
    "        with open(directory_path + '/' + dir_content, 'r') as file:\n",
    "            data = file.read().rstrip().replace('\\n', ' ')\n",
    "            data = re.sub( r'[\\(\\)]', '', data)\n",
    "            text.append(data)"
   ]
  },
  {
   "cell_type": "code",
   "execution_count": 25,
   "metadata": {
    "tags": []
   },
   "outputs": [
    {
     "data": {
      "text/plain": [
       "[['LRC_2414-2614_990004970_70004067', 551],\n",
       " ['LRC_2414-2614_70000980_70004013', 551],\n",
       " ['LRC_2414-2614_990004972_70004119', 551],\n",
       " ['LRC_2414-2614_990005002_70004127', 551],\n",
       " ['LRC_2414-2614_70000993_70004084', 551],\n",
       " ['LRC_2414-2614_990005021_70004134', 551],\n",
       " ['LRC_2414-2614_990005110_70004205', 551],\n",
       " ['LRC_2414-2614_70000890_70004185', 551],\n",
       " ['LRC_2414-2614_990002892_70004198', 551],\n",
       " ['LRC_2414-2614_990004968_70004065', 551],\n",
       " ['LRC_2414-2614_70000996_70004080', 551],\n",
       " ['LRC_2414-2614_70000997_70004103', 551],\n",
       " ['LRC_2414-2614_990002559_70004024', 515],\n",
       " ['LRC_2414-2614_990005085_70004209', 479],\n",
       " ['LRC_2414-2614_990005012_70004113', 479],\n",
       " ['LRC_2414-2614_990004969_70004062', 371],\n",
       " ['LRC_2414-2614_990002558_70004089', 371],\n",
       " ['LRC_2414-2614_990005070_70004190', 371],\n",
       " ['LRC_2414-2614_990004975_70004072', 371],\n",
       " ['LRC_2414-2614_990005058_70004148', 335],\n",
       " ['LRC_2414-2614_990004987_70004088', 335],\n",
       " ['LRC_2414-2614_990004965_70004064', 335],\n",
       " ['LRC_2414-2614_70000986_70004049', 335],\n",
       " ['LRC_2414-2614_990004948_70004125', 335],\n",
       " ['LRC_2414-2614_990004937_70004057', 335],\n",
       " ['LRC_2414-2614_990004945_70004078', 335],\n",
       " ['LRC_2414-2614_990004934_70004022', 335],\n",
       " ['LRC_2414-2614_990004967_70004059', 335],\n",
       " ['LRC_2414-2614_990005074_70004163', 335],\n",
       " ['LRC_2414-2614_990001488_70004202', 335],\n",
       " ['LRC_2414-2614_990005029_70004114', 335],\n",
       " ['LRC_2414-2614_990004929_70004023', 335],\n",
       " ['LRC_2414-2614_990004964_70004053', 335],\n",
       " ['LRC_2414-2614_990004891_70004008', 335],\n",
       " ['LRC_2414-2614_990004954_70004086', 335],\n",
       " ['LRC_2414-2614_70000970_70004012', 335],\n",
       " ['LRC_2414-2614_990005079_70004203', 335],\n",
       " ['LRC_2414-2614_990004957_70004035', 335],\n",
       " ['LRC_2414-2614_70000984_70004046', 335],\n",
       " ['LRC_2414-2614_990004938_70004034', 335],\n",
       " ['LRC_2414-2614_990005063_70004146', 335],\n",
       " ['LRC_2414-2614_990004423_70004061', 335],\n",
       " ['LRC_2414-2614_990004903_70004196', 335],\n",
       " ['LRC_2414-2614_990004950_70004074', 335],\n",
       " ['LRC_2414-2614_990004982_70004147', 335],\n",
       " ['LRC_2414-2614_70001012_70004175', 335],\n",
       " ['LRC_2414-2614_990004962_70004107', 335],\n",
       " ['LRC_2414-2614_990005006_70004111', 335],\n",
       " ['LRC_2414-2614_990005000_70004099', 335],\n",
       " ['LRC_2414-2614_990004925_70004009', 335],\n",
       " ['LRC_2414-2614_990004403_70004069', 335],\n",
       " ['LRC_2414-2614_990005041_70004124', 335],\n",
       " ['LRC_2414-2614_990004991_70004093', 335],\n",
       " ['LRC_2414-2614_990004958_70004048', 335],\n",
       " ['LRC_2414-2614_990004912_70004007', 335],\n",
       " ['LRC_2414-2614_990005019_70004136', 299],\n",
       " ['LRC_2414-2614_990005093_70004208', 299],\n",
       " ['LRC_2414-2614_990005028_70004139', 299],\n",
       " ['LRC_2414-2614_990003766_70004192', 299],\n",
       " ['LRC_2414-2614_990005089_70004201', 299],\n",
       " ['LRC_2414-2614_990005048_70004179', 299],\n",
       " ['LRC_2414-2614_990005014_70004152', 299],\n",
       " ['LRC_2414-2614_990005040_70004154', 299],\n",
       " ['LRC_2414-2614_70000293_70004077', 299],\n",
       " ['LRC_2414-2614_990004922_70004031', 299],\n",
       " ['LRC_2414-2614_990004998_70004090', 299],\n",
       " ['LRC_2414-2614_70001014_70004212', 299],\n",
       " ['LRC_2414-2614_990004981_70004081', 299],\n",
       " ['LRC_2414-2614_990001678_70004126', 299],\n",
       " ['LRC_2414-2614_990005069_70004171', 299],\n",
       " ['LRC_2414-2614_990004119_70004204', 299],\n",
       " ['LRC_2414-2614_70000998_70004100', 299],\n",
       " ['LRC_2414-2614_990004939_70004050', 299],\n",
       " ['LRC_2414-2614_990004901_70004011', 299],\n",
       " ['LRC_2414-2614_70000856_70004104', 299],\n",
       " ['LRC_2414-2614_70000983_70004021', 299],\n",
       " ['LRC_2414-2614_990004539_70004123', 299],\n",
       " ['LRC_2414-2614_990005134_70004210', 299],\n",
       " ['LRC_2414-2614_990004876_70004116', 299],\n",
       " ['LRC_2414-2614_990004997_70004075', 299],\n",
       " ['LRC_2414-2614_990005031_70004131', 299],\n",
       " ['LRC_2414-2614_990002905_70004058', 299],\n",
       " ['LRC_2414-2614_990005046_70004159', 299],\n",
       " ['LRC_2414-2614_20000060_70004030', 299],\n",
       " ['LRC_2414-2614_990004976_70004073', 299],\n",
       " ['LRC_2414-2614_70000981_70004014', 299],\n",
       " ['LRC_2414-2614_990004269_70004187', 299],\n",
       " ['LRC_2414-2614_990004923_70004032', 299],\n",
       " ['LRC_2414-2614_70000852_70004193', 299],\n",
       " ['LRC_2414-2614_990003148_70004063', 299],\n",
       " ['LRC_2414-2614_990005023_70004135', 299],\n",
       " ['LRC_2414-2614_990004959_70004039', 299],\n",
       " ['LRC_2414-2614_70000995_70004102', 299],\n",
       " ['LRC_2414-2614_990004963_70004056', 299],\n",
       " ['LRC_2414-2614_70000959_70004043', 299],\n",
       " ['LRC_2414-2614_990005033_70004137', 299],\n",
       " ['LRC_2414-2614_990004887_70004106', 299],\n",
       " ['LRC_2414-2614_990005128_70004197', 299],\n",
       " ['LRC_2414-2614_70000501_70004167', 299],\n",
       " ['LRC_2414-2614_990003303_70004027', 299],\n",
       " ['LRC_2414-2614_70001013_70004168', 299],\n",
       " ['LRC_2414-2614_990001809_70004199', 299],\n",
       " ['LRC_2414-2614_990001702_70004091', 299],\n",
       " ['LRC_2414-2614_990004983_70004079', 299],\n",
       " ['LRC_2414-2614_70001003_70004143', 299],\n",
       " ['LRC_2414-2614_990005049_70004142', 299],\n",
       " ['LRC_2414-2614_990000415_70004122', 299],\n",
       " ['LRC_2414-2614_70000987_70004041', 299],\n",
       " ['LRC_2414-2614_990004926_70004026', 299],\n",
       " ['LRC_2414-2614_990005082_70004211', 299],\n",
       " ['LRC_2414-2614_990005005_70004110', 299],\n",
       " ['LRC_2414-2614_990004930_70004006', 299],\n",
       " ['LRC_2414-2614_990005099_70004194', 299],\n",
       " ['LRC_2414-2614_990005016_70004130', 299],\n",
       " ['LRC_2414-2614_990004944_70004052', 299],\n",
       " ['LRC_2414-2614_990005101_70004186', 299],\n",
       " ['LRC_2414-2614_990004988_70004117', 299],\n",
       " ['LRC_2414-2614_990001549_70004037', 299],\n",
       " ['LRC_2414-2614_990004952_70004028', 299],\n",
       " ['LRC_2414-2614_990005025_70004138', 299],\n",
       " ['LRC_2414-2614_70000985_70004044', 299],\n",
       " ['LRC_2414-2614_990004993_70004096', 299],\n",
       " ['LRC_2414-2614_990005075_70004176', 299],\n",
       " ['LRC_2414-2614_990003161_70004151', 299],\n",
       " ['LRC_2414-2614_990005007_70004094', 299],\n",
       " ['LRC_2414-2614_990004986_70004087', 299],\n",
       " ['LRC_2414-2614_990004951_70004047', 299],\n",
       " ['LRC_2414-2614_990004996_70004141', 299],\n",
       " ['LRC_2414-2614_70000117_70004149', 299],\n",
       " ['LRC_2414-2614_70001005_70004157', 299],\n",
       " ['LRC_2414-2614_70000979_70004076', 299],\n",
       " ['LRC_2414-2614_990005095_70004200', 299],\n",
       " ['LRC_2414-2614_990005062_70004172', 299],\n",
       " ['LRC_2414-2614_990005024_70004158', 299],\n",
       " ['LRC_2414-2614_990002689_70004150', 299],\n",
       " ['LRC_2414-2614_990004980_70004140', 299],\n",
       " ['LRC_2414-2614_990004139_70004128', 299],\n",
       " ['LRC_2414-2614_990005036_70004162', 299],\n",
       " ['LRC_2414-2614_990004629_70004083', 299],\n",
       " ['LRC_2414-2614_990005004_70004108', 299],\n",
       " ['LRC_2414-2614_990003630_70004153', 299],\n",
       " ['LRC_2414-2614_990005103_70004195', 299],\n",
       " ['LRC_2414-2614_990005035_70004156', 299],\n",
       " ['LRC_2414-2614_990004989_70004092', 299],\n",
       " ['LRC_2414-2614_990005120_70004214', 299],\n",
       " ['LRC_2414-2614_990004814_70004155', 299],\n",
       " ['LRC_2414-2614_990004909_70004042', 299],\n",
       " ['LRC_2414-2614_990004918_70004033', 299],\n",
       " ['LRC_2414-2614_990005018_70004132', 299],\n",
       " ['LRC_2414-2614_990004936_70004019', 263],\n",
       " ['LRC_2414-2614_990005081_70004184', 263],\n",
       " ['LRC_2414-2614_70001002_70004129', 263],\n",
       " ['LRC_2414-2614_990005072_70004191', 263],\n",
       " ['LRC_2414-2614_990005097_70004213', 263],\n",
       " ['LRC_2414-2614_990005032_70004183', 263],\n",
       " ['LRC_2414-2614_990004921_70004133', 263],\n",
       " ['LRC_2414-2614_990004933_70004020', 263],\n",
       " ['LRC_2414-2614_990005086_70004206', 263],\n",
       " ['LRC_2414-2614_990005065_70004174', 263],\n",
       " ['LRC_2414-2614_990001065_70004045', 263],\n",
       " ['LRC_2414-2614_70001017_70004189', 263],\n",
       " ['LRC_2414-2614_70000994_70004095', 263],\n",
       " ['LRC_2414-2614_990005039_70004144', 263],\n",
       " ['LRC_2414-2614_990005009_70004109', 263],\n",
       " ['LRC_2414-2614_990004995_70004101', 263],\n",
       " ['LRC_2414-2614_990004960_70004051', 263],\n",
       " ['LRC_2414-2614_990004977_70004070', 263],\n",
       " ['LRC_2414-2614_990004917_70004025', 263],\n",
       " ['LRC_2414-2614_990005056_70004166', 263],\n",
       " ['LRC_2414-2614_990005054_70004180', 263],\n",
       " ['LRC_2414-2614_70000233_70004098', 263],\n",
       " ['LRC_2414-2614_990004985_70004085', 263],\n",
       " ['LRC_2414-2614_990005013_70004120', 263],\n",
       " ['LRC_2414-2614_990005080_70004207', 263],\n",
       " ['LRC_2414-2614_990004902_70004005', 263],\n",
       " ['LRC_2414-2614_990004757_70004115', 263],\n",
       " ['LRC_2414-2614_990004039_70004188', 263],\n",
       " ['LRC_2414-2614_70000972_70004018', 263],\n",
       " ['LRC_2414-2614_990005078_70004173', 263],\n",
       " ['LRC_2414-2614_990005068_70004160', 263],\n",
       " ['LRC_2414-2614_990005087_70004178', 263],\n",
       " ['LRC_2414-2614_990005037_70004161', 263],\n",
       " ['LRC_2414-2614_990005026_70004118', 227]]"
      ]
     },
     "execution_count": 25,
     "metadata": {},
     "output_type": "execute_result"
    }
   ],
   "source": [
    "lens = []\n",
    "for key, img in imgs.items():\n",
    "    lens.append([key, img.shape[0]])\n",
    "sorted(lens, reverse = True, key = lambda x: x[1])"
   ]
  },
  {
   "cell_type": "code",
   "execution_count": 41,
   "metadata": {},
   "outputs": [],
   "source": [
    "titles = ['Пол:', '{}.*?{}'.format('Область головы', 'шеи:'),\n",
    "'Органы грудной клетки:', 'Органы брюшной полости:', 'Органы малого таза:',\n",
    "'Костная система:', 'Диагноз по МКБ-10:']\n",
    "last_title = 'Выполнение диагностической услуги:'"
   ]
  },
  {
   "cell_type": "code",
   "execution_count": 153,
   "metadata": {},
   "outputs": [
    {
     "data": {
      "text/plain": [
       "[' Муж Возраст: 37 Дата рождения: 06.04.1981 Наименование медицинской техники: Позитронно-эмиссионный томограф, совмещенный с компьютерным томографом / GE Discovery 610 Радиофармпрепарат: 18Е-ФДГ Введено в/в: 299 Время введения РФП: 07:54 Эффективная доза РФП: 5.6 Эффективная доза КТ: 18.1 Единицы измерения $/\\\\тах: 5/т!* $ИМЬт Референтное значение активности РФП в печени: 3,15 Референтное значение РФП пула крови: 2,23 Контрастное вещество Рег о$: Урографин 76%-10млводный раствор Контрастное усиление в/в: Омнипак 350-100мл Аллергическая реакция: нет Причина обращения: Лимфома Ходжкина, ХТ, ЛТ в 2011г. Цель исследования: Оценка эффективности проведенного лечения  ']"
      ]
     },
     "execution_count": 153,
     "metadata": {},
     "output_type": "execute_result"
    }
   ],
   "source": [
    "t"
   ]
  },
  {
   "cell_type": "code",
   "execution_count": 42,
   "metadata": {},
   "outputs": [],
   "source": [
    "import re\n",
    "\n",
    "def txt_preprocess(text):\n",
    "    tst_txt = []\n",
    "    for i in range(len(titles)):\n",
    "        if i < len(titles)-1:\n",
    "            pat = re.compile('{}(.*){}'.format(titles[i], titles[i+1]))\n",
    "        else:\n",
    "            pat = re.compile('{}(.*){}'.format(titles[i], last_title))\n",
    "        sent = pat.findall(text)\n",
    "        tst_txt.append(''.join(sent).strip())\n",
    "    return tst_txt\n"
   ]
  },
  {
   "cell_type": "code",
   "execution_count": 43,
   "metadata": {},
   "outputs": [],
   "source": [
    "counts = []\n",
    "divided = []\n",
    "for i in range(len(text)):\n",
    "    txt_divided = txt_preprocess(text[i])\n",
    "    divided.append(txt_divided)\n",
    "    counts.append([i, [len(txt_divided[j]) for j in range(len(txt_divided))]])"
   ]
  },
  {
   "cell_type": "code",
   "execution_count": 50,
   "metadata": {},
   "outputs": [
    {
     "data": {
      "text/plain": [
       "torch.Size([300])"
      ]
     },
     "execution_count": 50,
     "metadata": {},
     "output_type": "execute_result"
    }
   ],
   "source": [
    "torch.zeros_like(torch.empty(300)).shape"
   ]
  },
  {
   "cell_type": "code",
   "execution_count": 161,
   "metadata": {
    "collapsed": true,
    "jupyter": {
     "outputs_hidden": true
    },
    "tags": []
   },
   "outputs": [
    {
     "data": {
      "text/plain": [
       "[[0, [665, 1037, 772, 896, 388, 129, 630]],\n",
       " [1, [661, 1073, 752, 886, 287, 106, 1023]],\n",
       " [2, [538, 903, 1080, 820, 405, 477, 1118]],\n",
       " [3, [601, 950, 566, 877, 613, 106, 738]],\n",
       " [4, [586, 891, 564, 924, 316, 106, 570]],\n",
       " [5, [630, 912, 537, 1213, 338, 106, 705]],\n",
       " [6, [768, 1021, 754, 1460, 363, 106, 1068]],\n",
       " [7, [759, 901, 1315, 904, 486, 251, 770]],\n",
       " [8, [633, 1093, 678, 1456, 443, 155, 1071]],\n",
       " [9, [604, 1057, 670, 850, 602, 106, 871]],\n",
       " [10, [696, 961, 563, 1545, 264, 106, 867]],\n",
       " [11, [716, 953, 561, 936, 264, 245, 921]],\n",
       " [12, [534, 932, 759, 886, 287, 219, 742]],\n",
       " [13, [693, 790, 645, 886, 415, 319, 1009]],\n",
       " [14, [904, 905, 1714, 1059, 304, 163, 1040]],\n",
       " [15, [606, 904, 479, 1002, 395, 106, 770]],\n",
       " [16, [585, 912, 387, 1366, 296, 106, 690]],\n",
       " [17, [753, 1003, 679, 1011, 287, 106, 917]],\n",
       " [18, [573, 1143, 885, 1613, 497, 429, 1334]],\n",
       " [19, [573, 908, 683, 856, 454, 106, 781]],\n",
       " [20, [541, 1526, 1013, 819, 384, 254, 790]],\n",
       " [21, [700, 1035, 898, 924, 397, 106, 882]],\n",
       " [22, [860, 1171, 577, 1105, 345, 277, 806]],\n",
       " [23, [607, 844, 389, 1280, 372, 106, 749]],\n",
       " [24, [501, 937, 913, 788, 320, 166, 834]],\n",
       " [25, [652, 907, 1070, 819, 396, 106, 892]],\n",
       " [26, [641, 964, 765, 1217, 671, 179, 835]],\n",
       " [27, [734, 1127, 770, 1233, 560, 359, 941]],\n",
       " [28, [607, 1067, 928, 1437, 358, 106, 1060]],\n",
       " [29, [549, 912, 622, 886, 556, 106, 842]],\n",
       " [30, [658, 1011, 607, 1018, 388, 166, 606]],\n",
       " [31, [590, 902, 1077, 1106, 238, 188, 1179]],\n",
       " [32, [666, 898, 567, 834, 347, 106, 816]],\n",
       " [33, [511, 906, 991, 1867, 413, 280, 923]],\n",
       " [34, [557, 982, 608, 1031, 447, 302, 1004]],\n",
       " [35, [588, 912, 658, 1086, 287, 106, 790]],\n",
       " [36, [722, 943, 633, 926, 303, 106, 722]],\n",
       " [37, [526, 900, 1043, 1701, 537, 106, 1090]],\n",
       " [38, [523, 908, 521, 1379, 545, 188, 1052]],\n",
       " [39, [646, 925, 578, 968, 348, 151, 727]],\n",
       " [40, [637, 893, 797, 906, 303, 132, 961]],\n",
       " [41, [705, 803, 1063, 1323, 309, 497, 774]],\n",
       " [42, [611, 831, 511, 1146, 368, 106, 834]],\n",
       " [43, [708, 844, 587, 993, 314, 106, 910]],\n",
       " [44, [638, 966, 705, 883, 270, 163, 851]],\n",
       " [45, [552, 1005, 548, 1035, 448, 166, 657]],\n",
       " [46, [580, 998, 532, 865, 400, 106, 798]],\n",
       " [47, [541, 1150, 748, 937, 430, 304, 820]],\n",
       " [48, [579, 963, 462, 886, 318, 106, 638]],\n",
       " [49, [479, 844, 591, 974, 288, 106, 761]],\n",
       " [50, [628, 852, 680, 1109, 354, 131, 706]],\n",
       " [51, [775, 985, 436, 1238, 369, 106, 862]],\n",
       " [52, [559, 1065, 387, 883, 411, 106, 674]],\n",
       " [53, [542, 966, 967, 872, 479, 176, 882]],\n",
       " [54, [523, 871, 1047, 886, 427, 106, 821]],\n",
       " [55, [769, 880, 1068, 1449, 317, 322, 858]],\n",
       " [56, [516, 909, 578, 1256, 280, 233, 657]],\n",
       " [57, [558, 1176, 791, 1043, 379, 106, 799]],\n",
       " [58, [555, 910, 528, 932, 395, 106, 566]],\n",
       " [59, [567, 994, 464, 1274, 318, 107, 701]],\n",
       " [60, [587, 902, 548, 908, 407, 106, 748]],\n",
       " [61, [662, 1075, 717, 1272, 302, 168, 878]],\n",
       " [62, [737, 964, 389, 1077, 266, 147, 939]],\n",
       " [63, [593, 1020, 606, 997, 318, 209, 699]],\n",
       " [64, [739, 921, 845, 968, 491, 106, 793]],\n",
       " [65, [755, 832, 389, 935, 349, 189, 769]],\n",
       " [66, [692, 1098, 752, 1016, 411, 106, 826]],\n",
       " [67, [586, 907, 592, 2335, 244, 504, 1208]],\n",
       " [68, [534, 967, 1221, 852, 355, 106, 788]],\n",
       " [69, [525, 1151, 758, 984, 450, 1206, 1052]],\n",
       " [70, [652, 1089, 738, 1031, 383, 106, 1084]],\n",
       " [71, [703, 1039, 861, 835, 429, 106, 822]],\n",
       " [72, [527, 832, 738, 886, 237, 162, 728]],\n",
       " [73, [537, 840, 960, 1107, 323, 218, 826]],\n",
       " [74, [830, 948, 419, 1043, 351, 163, 666]],\n",
       " [75, [541, 845, 609, 886, 281, 106, 797]],\n",
       " [76, [682, 844, 535, 966, 288, 106, 651]],\n",
       " [77, [688, 979, 585, 1364, 366, 106, 1010]],\n",
       " [78, [784, 888, 648, 2288, 316, 162, 1045]],\n",
       " [79, [568, 908, 767, 886, 316, 170, 669]],\n",
       " [80, [615, 1082, 838, 878, 309, 471, 793]],\n",
       " [81, [536, 846, 620, 967, 380, 106, 761]],\n",
       " [82, [462, 925, 464, 907, 340, 230, 855]],\n",
       " [83, [514, 1199, 553, 1093, 1254, 106, 1048]],\n",
       " [84, [492, 903, 700, 1354, 298, 166, 683]],\n",
       " [85, [535, 606, 571, 653, 287, 106, 839]],\n",
       " [86, [702, 1557, 639, 856, 405, 166, 806]],\n",
       " [87, [508, 841, 694, 955, 541, 210, 734]],\n",
       " [88, [481, 642, 501, 735, 287, 106, 681]],\n",
       " [89, [524, 717, 582, 653, 287, 106, 553]],\n",
       " [90, [792, 957, 803, 886, 328, 106, 805]],\n",
       " [91, [676, 908, 653, 819, 763, 106, 638]],\n",
       " [92, [526, 908, 631, 1342, 764, 166, 963]],\n",
       " [93, [596, 913, 491, 886, 333, 106, 616]],\n",
       " [94, [672, 910, 573, 901, 586, 273, 770]],\n",
       " [95, [695, 952, 782, 853, 327, 166, 860]],\n",
       " [96, [728, 840, 529, 984, 331, 110, 602]],\n",
       " [97, [605, 907, 781, 1293, 558, 303, 886]],\n",
       " [98, [690, 952, 524, 939, 384, 106, 774]],\n",
       " [99, [899, 983, 563, 1436, 360, 106, 735]],\n",
       " [100, [620, 841, 858, 1055, 329, 203, 831]],\n",
       " [101, [599, 916, 1204, 1007, 287, 136, 859]],\n",
       " [102, [713, 833, 710, 1018, 345, 133, 935]],\n",
       " [103, [608, 907, 629, 2477, 390, 106, 1439]],\n",
       " [104, [665, 1038, 484, 898, 389, 106, 804]],\n",
       " [105, [514, 1110, 690, 1482, 384, 106, 853]],\n",
       " [106, [605, 1437, 892, 1671, 612, 278, 1268]],\n",
       " [107, [591, 911, 462, 877, 329, 174, 684]],\n",
       " [108, [541, 1202, 695, 972, 392, 436, 829]],\n",
       " [109, [701, 905, 816, 1004, 706, 106, 1062]],\n",
       " [110, [549, 937, 600, 1217, 644, 291, 1045]],\n",
       " [111, [596, 910, 539, 857, 294, 737, 1019]],\n",
       " [112, [621, 1104, 1232, 983, 518, 323, 596]],\n",
       " [113, [637, 1045, 744, 941, 386, 106, 782]],\n",
       " [114, [599, 913, 681, 886, 329, 106, 710]],\n",
       " [115, [739, 1717, 581, 887, 414, 292, 1209]],\n",
       " [116, [827, 999, 450, 1322, 288, 209, 918]],\n",
       " [117, [577, 882, 703, 1034, 397, 106, 778]],\n",
       " [118, [592, 956, 932, 984, 604, 360, 1160]],\n",
       " [119, [594, 1002, 1043, 1017, 288, 163, 788]],\n",
       " [120, [613, 968, 973, 851, 378, 166, 617]],\n",
       " [121, [665, 921, 489, 882, 287, 106, 644]],\n",
       " [122, [580, 946, 461, 1080, 375, 163, 830]],\n",
       " [123, [692, 1124, 1134, 928, 388, 106, 775]],\n",
       " [124, [591, 840, 591, 886, 401, 106, 800]],\n",
       " [125, [664, 962, 1064, 885, 484, 243, 1038]],\n",
       " [126, [611, 1017, 610, 857, 335, 106, 848]],\n",
       " [127, [545, 853, 960, 886, 435, 106, 892]],\n",
       " [128, [968, 1001, 739, 873, 344, 65, 1279]],\n",
       " [129, [600, 943, 463, 886, 287, 106, 642]],\n",
       " [130, [715, 926, 624, 1046, 258, 153, 983]],\n",
       " [131, [678, 1114, 526, 1021, 481, 330, 800]],\n",
       " [132, [625, 900, 1237, 781, 354, 106, 864]],\n",
       " [133, [495, 860, 936, 1164, 300, 163, 633]],\n",
       " [134, [682, 1015, 764, 993, 450, 126, 988]],\n",
       " [135, [604, 892, 949, 885, 303, 106, 932]],\n",
       " [136, [530, 902, 528, 863, 422, 161, 682]],\n",
       " [137, [616, 986, 678, 853, 327, 166, 640]],\n",
       " [138, [509, 927, 1046, 1025, 258, 181, 775]],\n",
       " [139, [716, 1358, 548, 1127, 287, 210, 1173]],\n",
       " [140, [508, 863, 464, 876, 521, 106, 878]],\n",
       " [141, [503, 818, 643, 1055, 288, 106, 816]],\n",
       " [142, [621, 922, 587, 939, 274, 218, 791]],\n",
       " [143, [580, 827, 448, 885, 333, 106, 676]],\n",
       " [144, [755, 1152, 629, 929, 595, 106, 935]],\n",
       " [145, [591, 1036, 602, 886, 367, 195, 663]],\n",
       " [146, [535, 852, 464, 906, 458, 174, 624]],\n",
       " [147, [533, 995, 791, 856, 294, 152, 793]],\n",
       " [148, [691, 913, 581, 921, 335, 106, 569]],\n",
       " [149, [672, 1063, 649, 869, 252, 106, 717]],\n",
       " [150, [578, 1492, 982, 1285, 410, 433, 1333]],\n",
       " [151, [550, 1023, 640, 973, 385, 106, 846]],\n",
       " [152, [547, 841, 657, 962, 379, 106, 747]],\n",
       " [153, [639, 1052, 748, 1038, 747, 106, 874]],\n",
       " [154, [746, 851, 507, 1178, 345, 106, 642]],\n",
       " [155, [579, 844, 1458, 887, 362, 164, 952]],\n",
       " [156, [516, 999, 965, 933, 613, 166, 996]],\n",
       " [157, [609, 1047, 465, 1253, 520, 106, 634]],\n",
       " [158, [616, 898, 640, 1024, 335, 162, 915]],\n",
       " [159, [660, 909, 686, 978, 342, 106, 798]],\n",
       " [160, [581, 1244, 643, 896, 503, 275, 774]],\n",
       " [161, [495, 843, 713, 886, 323, 251, 647]],\n",
       " [162, [488, 866, 660, 1458, 384, 166, 986]],\n",
       " [163, [527, 904, 465, 1846, 481, 107, 1124]],\n",
       " [164, [589, 1008, 820, 2125, 317, 155, 1346]],\n",
       " [165, [472, 880, 500, 841, 379, 106, 643]],\n",
       " [166, [694, 1106, 1016, 890, 310, 106, 872]],\n",
       " [167, [574, 976, 464, 886, 316, 106, 793]],\n",
       " [168, [508, 911, 582, 1088, 289, 106, 761]],\n",
       " [169, [608, 908, 755, 1570, 388, 106, 833]],\n",
       " [170, [528, 983, 582, 887, 368, 229, 647]],\n",
       " [171, [782, 841, 587, 1134, 509, 106, 690]],\n",
       " [172, [653, 1247, 688, 886, 287, 138, 726]],\n",
       " [173, [529, 961, 921, 1425, 1063, 167, 909]],\n",
       " [174, [619, 1416, 590, 885, 400, 183, 861]],\n",
       " [175, [595, 1024, 843, 1148, 716, 342, 1028]],\n",
       " [176, [576, 1209, 616, 1176, 940, 166, 1012]],\n",
       " [177, [696, 832, 555, 1108, 334, 125, 926]],\n",
       " [178, [592, 908, 616, 923, 637, 331, 1007]],\n",
       " [179, [515, 1163, 623, 1421, 465, 187, 1065]],\n",
       " [180, [672, 1172, 715, 1721, 404, 166, 783]],\n",
       " [181, [705, 1056, 826, 948, 395, 163, 806]],\n",
       " [182, [632, 1208, 729, 857, 379, 166, 692]]]"
      ]
     },
     "execution_count": 161,
     "metadata": {},
     "output_type": "execute_result"
    }
   ],
   "source": [
    "counts"
   ]
  },
  {
   "cell_type": "code",
   "execution_count": 8,
   "metadata": {},
   "outputs": [
    {
     "data": {
      "text/plain": [
       "6196"
      ]
     },
     "execution_count": 8,
     "metadata": {},
     "output_type": "execute_result"
    }
   ],
   "source": [
    "len(text[2])"
   ]
  },
  {
   "cell_type": "code",
   "execution_count": 22,
   "metadata": {
    "tags": []
   },
   "outputs": [],
   "source": [
    "max_l_img = imgs['LRC_2414-2614_990005019_70004136'].shape[0]"
   ]
  },
  {
   "cell_type": "code",
   "execution_count": 48,
   "metadata": {
    "tags": []
   },
   "outputs": [],
   "source": [
    "tst = imgs['LRC_2414-2614_990004958_70004048'][:, 1, ...]\n",
    "tst = torch.from_numpy(tst)"
   ]
  },
  {
   "cell_type": "code",
   "execution_count": 49,
   "metadata": {},
   "outputs": [
    {
     "data": {
      "text/plain": [
       "torch.Size([335, 512, 512])"
      ]
     },
     "execution_count": 49,
     "metadata": {},
     "output_type": "execute_result"
    }
   ],
   "source": [
    "tst.shape"
   ]
  },
  {
   "cell_type": "code",
   "execution_count": 7,
   "metadata": {
    "tags": []
   },
   "outputs": [],
   "source": [
    "from torchvision import transforms\n",
    "trans = transforms.Compose([transforms.Resize(256),\n",
    "                            transforms.CenterCrop(224),\n",
    "                            transforms.Normalize(mean=[0.485, 0.456, 0.406],\n",
    "                                                                         std=[0.229, 0.224, 0.225])])\n",
    "tst_tr = trans(tst.float().unsqueeze(1).repeat(1, 3, 1, 1))\n",
    "\n",
    "tst_tr = torch.reshape(tst_tr, (tst_tr.shape[1], tst_tr.shape[2],\n",
    "                            tst_tr.shape[3], tst_tr.shape[0]))"
   ]
  },
  {
   "cell_type": "code",
   "execution_count": 8,
   "metadata": {},
   "outputs": [
    {
     "data": {
      "text/plain": [
       "torch.Size([3, 224, 224, 263])"
      ]
     },
     "execution_count": 8,
     "metadata": {},
     "output_type": "execute_result"
    }
   ],
   "source": [
    "tst_tr.shape"
   ]
  },
  {
   "cell_type": "code",
   "execution_count": 11,
   "metadata": {
    "tags": []
   },
   "outputs": [],
   "source": [
    "tst_tr = tst_tr.unsqueeze(0)"
   ]
  },
  {
   "cell_type": "code",
   "execution_count": 38,
   "metadata": {
    "tags": []
   },
   "outputs": [
    {
     "ename": "RuntimeError",
     "evalue": "Sizes of tensors must match except in dimension 0. Expected size 263 but got size 36 for tensor number 1 in the list.",
     "output_type": "error",
     "traceback": [
      "\u001b[0;31m---------------------------------------------------------------------------\u001b[0m",
      "\u001b[0;31mRuntimeError\u001b[0m                              Traceback (most recent call last)",
      "\u001b[0;32m<ipython-input-38-1cc92c1a1e72>\u001b[0m in \u001b[0;36m<module>\u001b[0;34m()\u001b[0m\n\u001b[0;32m----> 1\u001b[0;31m \u001b[0mtorch\u001b[0m\u001b[0;34m.\u001b[0m\u001b[0mcat\u001b[0m\u001b[0;34m(\u001b[0m\u001b[0;34m[\u001b[0m\u001b[0mtst_tr\u001b[0m\u001b[0;34m[\u001b[0m\u001b[0;36m0\u001b[0m\u001b[0;34m]\u001b[0m\u001b[0;34m,\u001b[0m \u001b[0madded\u001b[0m\u001b[0;34m]\u001b[0m\u001b[0;34m)\u001b[0m\u001b[0;34m\u001b[0m\u001b[0;34m\u001b[0m\u001b[0m\n\u001b[0m",
      "\u001b[0;31mRuntimeError\u001b[0m: Sizes of tensors must match except in dimension 0. Expected size 263 but got size 36 for tensor number 1 in the list."
     ]
    }
   ],
   "source": [
    "torch.cat([tst_tr[0], added])"
   ]
  },
  {
   "cell_type": "code",
   "execution_count": 46,
   "metadata": {},
   "outputs": [
    {
     "data": {
      "text/plain": [
       "263"
      ]
     },
     "execution_count": 46,
     "metadata": {},
     "output_type": "execute_result"
    }
   ],
   "source": [
    "tst_tr[0].shape[3]"
   ]
  },
  {
   "cell_type": "code",
   "execution_count": 48,
   "metadata": {
    "tags": []
   },
   "outputs": [
    {
     "data": {
      "text/plain": [
       "36"
      ]
     },
     "execution_count": 48,
     "metadata": {},
     "output_type": "execute_result"
    }
   ],
   "source": [
    "torch.zeros(36).reshape(1,1,1,36).shape[3]"
   ]
  },
  {
   "cell_type": "code",
   "execution_count": 53,
   "metadata": {
    "tags": []
   },
   "outputs": [
    {
     "data": {
      "text/plain": [
       "torch.Size([3, 256, 256, 299])"
      ]
     },
     "execution_count": 53,
     "metadata": {},
     "output_type": "execute_result"
    }
   ],
   "source": [
    "torch.cat([tst_tr[0], added], dim = 3).shape"
   ]
  },
  {
   "cell_type": "code",
   "execution_count": 51,
   "metadata": {
    "tags": []
   },
   "outputs": [],
   "source": [
    "added = torch.zeros(list(tst_tr[0].shape[:-1]) + [max_l_img - tst_tr.shape[-1]])"
   ]
  },
  {
   "cell_type": "code",
   "execution_count": 41,
   "metadata": {},
   "outputs": [
    {
     "ename": "SyntaxError",
     "evalue": "invalid syntax (<ipython-input-41-9c330abae8ea>, line 1)",
     "output_type": "error",
     "traceback": [
      "\u001b[0;36m  File \u001b[0;32m\"<ipython-input-41-9c330abae8ea>\"\u001b[0;36m, line \u001b[0;32m1\u001b[0m\n\u001b[0;31m    torch.zeros(,,,max_l_img - tst_tr.shape[-1])\u001b[0m\n\u001b[0m                ^\u001b[0m\n\u001b[0;31mSyntaxError\u001b[0m\u001b[0;31m:\u001b[0m invalid syntax\n"
     ]
    }
   ],
   "source": [
    "torch.zeros(,,,max_l_img - tst_tr.shape[-1])"
   ]
  },
  {
   "cell_type": "code",
   "execution_count": 31,
   "metadata": {
    "tags": []
   },
   "outputs": [
    {
     "data": {
      "text/plain": [
       "[3, 256, 256]"
      ]
     },
     "execution_count": 31,
     "metadata": {},
     "output_type": "execute_result"
    }
   ],
   "source": [
    "list(tst_tr[0].shape[:-1])"
   ]
  },
  {
   "cell_type": "code",
   "execution_count": 30,
   "metadata": {
    "tags": []
   },
   "outputs": [
    {
     "data": {
      "text/plain": [
       "36"
      ]
     },
     "execution_count": 30,
     "metadata": {},
     "output_type": "execute_result"
    }
   ],
   "source": [
    "max_l_img - tst_tr.shape[-1]"
   ]
  },
  {
   "cell_type": "code",
   "execution_count": 49,
   "metadata": {},
   "outputs": [
    {
     "data": {
      "text/plain": [
       "torch.Size([1, 400])"
      ]
     },
     "execution_count": 49,
     "metadata": {},
     "output_type": "execute_result"
    }
   ],
   "source": [
    "model(tst_tr).shape"
   ]
  },
  {
   "cell_type": "code",
   "execution_count": 46,
   "metadata": {
    "tags": []
   },
   "outputs": [],
   "source": [
    "import torchvision\n",
    "model = torchvision.models.video.r3d_18(pretrained = True)"
   ]
  },
  {
   "cell_type": "code",
   "execution_count": 18,
   "metadata": {},
   "outputs": [],
   "source": [
    "mem_params = sum([param.nelement()*param.element_size() for param in model.parameters()])\n",
    "mem_bufs = sum([buf.nelement()*buf.element_size() for buf in model.buffers()])\n",
    "mem = mem_params + mem_bufs"
   ]
  },
  {
   "cell_type": "code",
   "execution_count": 16,
   "metadata": {},
   "outputs": [
    {
     "data": {
      "text/plain": [
       "1707642880"
      ]
     },
     "execution_count": 16,
     "metadata": {},
     "output_type": "execute_result"
    }
   ],
   "source": [
    "mem"
   ]
  },
  {
   "cell_type": "code",
   "execution_count": 19,
   "metadata": {},
   "outputs": [
    {
     "data": {
      "text/plain": [
       "47144864"
      ]
     },
     "execution_count": 19,
     "metadata": {},
     "output_type": "execute_result"
    }
   ],
   "source": [
    "mem"
   ]
  },
  {
   "cell_type": "code",
   "execution_count": 17,
   "metadata": {},
   "outputs": [
    {
     "name": "stderr",
     "output_type": "stream",
     "text": [
      "Some weights of the model checkpoint at cointegrated/rubert-tiny were not used when initializing BertModel: ['cls.seq_relationship.bias', 'cls.predictions.transform.LayerNorm.bias', 'cls.predictions.transform.dense.bias', 'cls.predictions.transform.LayerNorm.weight', 'cls.seq_relationship.weight', 'cls.predictions.decoder.weight', 'cls.predictions.decoder.bias', 'cls.predictions.bias', 'cls.predictions.transform.dense.weight']\n",
      "- This IS expected if you are initializing BertModel from the checkpoint of a model trained on another task or with another architecture (e.g. initializing a BertForSequenceClassification model from a BertForPreTraining model).\n",
      "- This IS NOT expected if you are initializing BertModel from the checkpoint of a model that you expect to be exactly identical (initializing a BertForSequenceClassification model from a BertForSequenceClassification model).\n"
     ]
    }
   ],
   "source": [
    "from transformers import AutoModel\n",
    "\n",
    "model = AutoModel.from_pretrained('cointegrated/rubert-tiny')"
   ]
  },
  {
   "cell_type": "code",
   "execution_count": null,
   "metadata": {},
   "outputs": [],
   "source": []
  },
  {
   "cell_type": "code",
   "execution_count": null,
   "metadata": {},
   "outputs": [],
   "source": []
  },
  {
   "cell_type": "code",
   "execution_count": 25,
   "metadata": {
    "tags": []
   },
   "outputs": [],
   "source": [
    "img_embeds = []\n",
    "for i in range(0, tst_tr.shape[4], 32):\n",
    "    tst_tr1 = tst_tr[..., i:i+32]\n",
    "    zis_i = model(tst_tr1)\n",
    "    img_embeds.append(zis_i.flatten())\n",
    "\n",
    "zis = torch.stack(img_embeds, dim=0)"
   ]
  },
  {
   "cell_type": "code",
   "execution_count": 26,
   "metadata": {},
   "outputs": [],
   "source": [
    "zis = zis.view(zis.shape[1], -1)"
   ]
  },
  {
   "cell_type": "code",
   "execution_count": 27,
   "metadata": {},
   "outputs": [
    {
     "data": {
      "text/plain": [
       "'torch.FloatTensor'"
      ]
     },
     "execution_count": 27,
     "metadata": {},
     "output_type": "execute_result"
    }
   ],
   "source": [
    "zis.type()"
   ]
  },
  {
   "cell_type": "code",
   "execution_count": 79,
   "metadata": {},
   "outputs": [],
   "source": [
    "res_l1 = nn.Linear(zis.shape[1], 1)\n",
    "#res_l2 = nn.Linear(9*400, 300)"
   ]
  },
  {
   "cell_type": "code",
   "execution_count": 80,
   "metadata": {
    "tags": []
   },
   "outputs": [
    {
     "name": "stdout",
     "output_type": "stream",
     "text": [
      "torch.Size([1, 400])\n"
     ]
    }
   ],
   "source": [
    "x = res_l1(zis)\n",
    "x = F.relu(x)\n",
    "x = x.view(x.shape[1], -1)\n",
    "print(x.shape)"
   ]
  },
  {
   "cell_type": "code",
   "execution_count": null,
   "metadata": {},
   "outputs": [],
   "source": []
  },
  {
   "cell_type": "code",
   "execution_count": 43,
   "metadata": {},
   "outputs": [
    {
     "data": {
      "text/plain": [
       "torch.Size([1, 3, 256, 256, 263])"
      ]
     },
     "execution_count": 43,
     "metadata": {},
     "output_type": "execute_result"
    }
   ],
   "source": [
    "tst_tr.shape"
   ]
  },
  {
   "cell_type": "code",
   "execution_count": 20,
   "metadata": {},
   "outputs": [],
   "source": [
    "resnet = models.resnet50(pretrained = False)\n",
    "num_ftrs = resnet.fc.in_features\n",
    "res_features = nn.Sequential(*list(resnet.children())[:-1])"
   ]
  },
  {
   "cell_type": "code",
   "execution_count": 49,
   "metadata": {
    "tags": []
   },
   "outputs": [
    {
     "name": "stderr",
     "output_type": "stream",
     "text": [
      "Downloading: \"https://download.pytorch.org/models/r2plus1d_18-91a641e6.pth\" to /data/proskuryakova/.cache/torch/hub/checkpoints/r2plus1d_18-91a641e6.pth\n"
     ]
    },
    {
     "data": {
      "application/vnd.jupyter.widget-view+json": {
       "model_id": "9b744a5129834ac7a3159cb34f68926c",
       "version_major": 2,
       "version_minor": 0
      },
      "text/plain": [
       "  0%|          | 0.00/120M [00:00<?, ?B/s]"
      ]
     },
     "metadata": {},
     "output_type": "display_data"
    }
   ],
   "source": [
    "model2 = torchvision.models.video.r2plus1d_18(pretrained = True)"
   ]
  },
  {
   "cell_type": "code",
   "execution_count": 50,
   "metadata": {
    "tags": []
   },
   "outputs": [],
   "source": [
    "b = model2(tst_tr)"
   ]
  },
  {
   "cell_type": "code",
   "execution_count": 51,
   "metadata": {
    "tags": []
   },
   "outputs": [
    {
     "data": {
      "text/plain": [
       "torch.Size([263, 400])"
      ]
     },
     "execution_count": 51,
     "metadata": {},
     "output_type": "execute_result"
    }
   ],
   "source": [
    "b.shape"
   ]
  },
  {
   "cell_type": "code",
   "execution_count": 56,
   "metadata": {},
   "outputs": [],
   "source": [
    "h = res_features(tst_tr)\n"
   ]
  },
  {
   "cell_type": "code",
   "execution_count": 57,
   "metadata": {
    "tags": []
   },
   "outputs": [
    {
     "data": {
      "text/plain": [
       "torch.Size([1, 512, 1, 1, 1])"
      ]
     },
     "execution_count": 57,
     "metadata": {},
     "output_type": "execute_result"
    }
   ],
   "source": [
    "h.shape"
   ]
  },
  {
   "cell_type": "code",
   "execution_count": null,
   "metadata": {},
   "outputs": [],
   "source": []
  },
  {
   "cell_type": "code",
   "execution_count": 59,
   "metadata": {
    "tags": []
   },
   "outputs": [],
   "source": [
    "res_l1 = nn.Linear(263, 263)\n",
    "res_l2 = nn.Linear(263, 1)\n",
    "res_l3 = nn.Linear(2048, 300)"
   ]
  },
  {
   "cell_type": "code",
   "execution_count": 53,
   "metadata": {
    "tags": []
   },
   "outputs": [
    {
     "name": "stdout",
     "output_type": "stream",
     "text": [
      "torch.Size([263, 2048])\n"
     ]
    }
   ],
   "source": [
    "h = res_features(tst_tr)\n",
    "h = h.squeeze()\n",
    "\n",
    "print(h.shape)"
   ]
  },
  {
   "cell_type": "code",
   "execution_count": 57,
   "metadata": {},
   "outputs": [],
   "source": [
    "h1 = h.transpose(1, 0)"
   ]
  },
  {
   "cell_type": "code",
   "execution_count": 58,
   "metadata": {},
   "outputs": [
    {
     "data": {
      "text/plain": [
       "torch.Size([2048, 263])"
      ]
     },
     "execution_count": 58,
     "metadata": {},
     "output_type": "execute_result"
    }
   ],
   "source": [
    "h1.shape"
   ]
  },
  {
   "cell_type": "code",
   "execution_count": 60,
   "metadata": {
    "tags": []
   },
   "outputs": [
    {
     "name": "stdout",
     "output_type": "stream",
     "text": [
      "torch.Size([2048, 263])\n"
     ]
    }
   ],
   "source": [
    "x = res_l1(h1)\n",
    "x = F.relu(x)\n",
    "print(x.shape)\n",
    "x = res_l2(x)\n",
    "x1 = x.transpose(1,0)\n",
    "x = res_l3(x1)"
   ]
  },
  {
   "cell_type": "code",
   "execution_count": 61,
   "metadata": {},
   "outputs": [
    {
     "data": {
      "text/plain": [
       "torch.Size([1, 300])"
      ]
     },
     "execution_count": 61,
     "metadata": {},
     "output_type": "execute_result"
    }
   ],
   "source": [
    "x.shape"
   ]
  },
  {
   "cell_type": "code",
   "execution_count": null,
   "metadata": {},
   "outputs": [],
   "source": []
  },
  {
   "cell_type": "code",
   "execution_count": 64,
   "metadata": {},
   "outputs": [
    {
     "data": {
      "text/plain": [
       "torch.Size([263, 2048])"
      ]
     },
     "execution_count": 64,
     "metadata": {},
     "output_type": "execute_result"
    }
   ],
   "source": [
    "h.squeeze().shape"
   ]
  },
  {
   "cell_type": "code",
   "execution_count": null,
   "metadata": {},
   "outputs": [],
   "source": []
  },
  {
   "cell_type": "code",
   "execution_count": 8,
   "metadata": {},
   "outputs": [],
   "source": [
    "from os import listdir\n",
    "directory_path = '/data/burenko/datasets/pet-ct'\n",
    "names = []\n",
    "for dir_content in listdir(directory_path):\n",
    "    if dir_content.split('.')[-1] == 'npy':\n",
    "        names.append(dir_content.split('.')[0])"
   ]
  },
  {
   "cell_type": "code",
   "execution_count": 92,
   "metadata": {},
   "outputs": [
    {
     "ename": "NameError",
     "evalue": "name 'names' is not defined",
     "output_type": "error",
     "traceback": [
      "\u001b[0;31m---------------------------------------------------------------------------\u001b[0m",
      "\u001b[0;31mNameError\u001b[0m                                 Traceback (most recent call last)",
      "\u001b[0;32m<ipython-input-92-852d66e446d6>\u001b[0m in \u001b[0;36m<module>\u001b[0;34m()\u001b[0m\n\u001b[0;32m----> 1\u001b[0;31m \u001b[0mlen\u001b[0m\u001b[0;34m(\u001b[0m\u001b[0mnames\u001b[0m\u001b[0;34m)\u001b[0m\u001b[0;34m\u001b[0m\u001b[0;34m\u001b[0m\u001b[0m\n\u001b[0m",
      "\u001b[0;31mNameError\u001b[0m: name 'names' is not defined"
     ]
    }
   ],
   "source": [
    "len(names)"
   ]
  },
  {
   "cell_type": "code",
   "execution_count": null,
   "metadata": {},
   "outputs": [],
   "source": []
  },
  {
   "cell_type": "code",
   "execution_count": 6,
   "metadata": {},
   "outputs": [],
   "source": [
    "from torch.utils.data import Dataset\n",
    "from PIL import Image, ImageFile\n",
    "import random"
   ]
  },
  {
   "cell_type": "code",
   "execution_count": 39,
   "metadata": {},
   "outputs": [],
   "source": [
    "#dataset\n",
    "\n",
    "class PETDataset(Dataset):\n",
    "\n",
    "    def __init__(self, \n",
    "                dir_path,  \n",
    "                transform=None):\n",
    "        \"\"\"\n",
    "        Args:\n",
    "            dir_path (string): Path to the main directory\n",
    "        \"\"\"\n",
    "        self.dir_path = dir_path\n",
    "\n",
    "        self.names = []\n",
    "        for dir_content in listdir(self.dir_path):\n",
    "            if dir_content.split('.')[-1] == 'npy':\n",
    "                self.names.append(dir_content.split('.')[0])\n",
    "        \n",
    "\n",
    "    def __len__(self):\n",
    "        return len(self.names)\n",
    "\n",
    "    def __getitem__(self, idx):\n",
    "        if torch.is_tensor(idx):\n",
    "            idx = idx.tolist()\n",
    "\n",
    "        img_name = self.dir_path + '/' + self.names[idx] + '.npy'\n",
    "        images = np.load(img_name)[:, 1, ...]\n",
    "\n",
    "\n",
    "        text_path = self.dir_path + '/' + self.names[idx] + '.txt.txt'\n",
    "        with open(text_path) as f:\n",
    "            text = f.read().rstrip().replace('\\n', ' ')\n",
    "\n",
    "\n",
    "        sample = {'image': images, 'text': text}\n",
    "\n",
    "        return sample\n"
   ]
  },
  {
   "cell_type": "code",
   "execution_count": 40,
   "metadata": {},
   "outputs": [],
   "source": [
    "from torch.utils.data import DataLoader\n",
    "from torch.utils.data.sampler import SubsetRandomSampler\n",
    "\n",
    "dataset = PETDataset('/data/burenko/datasets/pet-ct')\n",
    "dataloader = DataLoader(dataset, batch_size = 1)"
   ]
  },
  {
   "cell_type": "code",
   "execution_count": 46,
   "metadata": {
    "collapsed": true,
    "jupyter": {
     "outputs_hidden": true
    },
    "tags": []
   },
   "outputs": [
    {
     "name": "stdout",
     "output_type": "stream",
     "text": [
      "torch.Size([1, 479, 512, 512]) 1\n",
      "torch.Size([1, 299, 512, 512]) 1\n",
      "torch.Size([1, 263, 512, 512]) 1\n",
      "torch.Size([1, 299, 512, 512]) 1\n",
      "torch.Size([1, 299, 512, 512]) 1\n",
      "torch.Size([1, 551, 512, 512]) 1\n",
      "torch.Size([1, 335, 512, 512]) 1\n",
      "torch.Size([1, 263, 512, 512]) 1\n",
      "torch.Size([1, 335, 512, 512]) 1\n",
      "torch.Size([1, 335, 512, 512]) 1\n",
      "torch.Size([1, 263, 512, 512]) 1\n",
      "torch.Size([1, 299, 512, 512]) 1\n",
      "torch.Size([1, 335, 512, 512]) 1\n",
      "torch.Size([1, 263, 512, 512]) 1\n",
      "torch.Size([1, 551, 512, 512]) 1\n",
      "torch.Size([1, 551, 512, 512]) 1\n",
      "torch.Size([1, 299, 512, 512]) 1\n",
      "torch.Size([1, 551, 512, 512]) 1\n",
      "torch.Size([1, 335, 512, 512]) 1\n",
      "torch.Size([1, 299, 512, 512]) 1\n",
      "torch.Size([1, 299, 512, 512]) 1\n",
      "torch.Size([1, 299, 512, 512]) 1\n",
      "torch.Size([1, 551, 512, 512]) 1\n",
      "torch.Size([1, 335, 512, 512]) 1\n",
      "torch.Size([1, 263, 512, 512]) 1\n",
      "torch.Size([1, 299, 512, 512]) 1\n",
      "torch.Size([1, 299, 512, 512]) 1\n",
      "torch.Size([1, 299, 512, 512]) 1\n"
     ]
    },
    {
     "ename": "KeyboardInterrupt",
     "evalue": "",
     "output_type": "error",
     "traceback": [
      "\u001b[0;31m---------------------------------------------------------------------------\u001b[0m",
      "\u001b[0;31mKeyboardInterrupt\u001b[0m                         Traceback (most recent call last)",
      "\u001b[0;32m<ipython-input-46-ac726e77e702>\u001b[0m in \u001b[0;36m<module>\u001b[0;34m()\u001b[0m\n\u001b[0;32m----> 1\u001b[0;31m \u001b[0;32mfor\u001b[0m \u001b[0msample\u001b[0m \u001b[0;32min\u001b[0m \u001b[0mtrain_loader\u001b[0m\u001b[0;34m:\u001b[0m\u001b[0;34m\u001b[0m\u001b[0;34m\u001b[0m\u001b[0m\n\u001b[0m\u001b[1;32m      2\u001b[0m     \u001b[0mprint\u001b[0m\u001b[0;34m(\u001b[0m\u001b[0msample\u001b[0m\u001b[0;34m[\u001b[0m\u001b[0;34m'image'\u001b[0m\u001b[0;34m]\u001b[0m\u001b[0;34m.\u001b[0m\u001b[0mshape\u001b[0m\u001b[0;34m,\u001b[0m \u001b[0mlen\u001b[0m\u001b[0;34m(\u001b[0m\u001b[0msample\u001b[0m\u001b[0;34m[\u001b[0m\u001b[0;34m'text'\u001b[0m\u001b[0;34m]\u001b[0m\u001b[0;34m)\u001b[0m\u001b[0;34m)\u001b[0m\u001b[0;34m\u001b[0m\u001b[0;34m\u001b[0m\u001b[0m\n",
      "\u001b[0;32m/data/proskuryakova/.local/lib/python3.6/site-packages/torch/utils/data/dataloader.py\u001b[0m in \u001b[0;36m__next__\u001b[0;34m(self)\u001b[0m\n\u001b[1;32m    519\u001b[0m             \u001b[0;32mif\u001b[0m \u001b[0mself\u001b[0m\u001b[0;34m.\u001b[0m\u001b[0m_sampler_iter\u001b[0m \u001b[0;32mis\u001b[0m \u001b[0;32mNone\u001b[0m\u001b[0;34m:\u001b[0m\u001b[0;34m\u001b[0m\u001b[0;34m\u001b[0m\u001b[0m\n\u001b[1;32m    520\u001b[0m                 \u001b[0mself\u001b[0m\u001b[0;34m.\u001b[0m\u001b[0m_reset\u001b[0m\u001b[0;34m(\u001b[0m\u001b[0;34m)\u001b[0m\u001b[0;34m\u001b[0m\u001b[0;34m\u001b[0m\u001b[0m\n\u001b[0;32m--> 521\u001b[0;31m             \u001b[0mdata\u001b[0m \u001b[0;34m=\u001b[0m \u001b[0mself\u001b[0m\u001b[0;34m.\u001b[0m\u001b[0m_next_data\u001b[0m\u001b[0;34m(\u001b[0m\u001b[0;34m)\u001b[0m\u001b[0;34m\u001b[0m\u001b[0;34m\u001b[0m\u001b[0m\n\u001b[0m\u001b[1;32m    522\u001b[0m             \u001b[0mself\u001b[0m\u001b[0;34m.\u001b[0m\u001b[0m_num_yielded\u001b[0m \u001b[0;34m+=\u001b[0m \u001b[0;36m1\u001b[0m\u001b[0;34m\u001b[0m\u001b[0;34m\u001b[0m\u001b[0m\n\u001b[1;32m    523\u001b[0m             \u001b[0;32mif\u001b[0m \u001b[0mself\u001b[0m\u001b[0;34m.\u001b[0m\u001b[0m_dataset_kind\u001b[0m \u001b[0;34m==\u001b[0m \u001b[0m_DatasetKind\u001b[0m\u001b[0;34m.\u001b[0m\u001b[0mIterable\u001b[0m \u001b[0;32mand\u001b[0m\u001b[0;31m \u001b[0m\u001b[0;31m\\\u001b[0m\u001b[0;34m\u001b[0m\u001b[0;34m\u001b[0m\u001b[0m\n",
      "\u001b[0;32m/data/proskuryakova/.local/lib/python3.6/site-packages/torch/utils/data/dataloader.py\u001b[0m in \u001b[0;36m_next_data\u001b[0;34m(self)\u001b[0m\n\u001b[1;32m    559\u001b[0m     \u001b[0;32mdef\u001b[0m \u001b[0m_next_data\u001b[0m\u001b[0;34m(\u001b[0m\u001b[0mself\u001b[0m\u001b[0;34m)\u001b[0m\u001b[0;34m:\u001b[0m\u001b[0;34m\u001b[0m\u001b[0;34m\u001b[0m\u001b[0m\n\u001b[1;32m    560\u001b[0m         \u001b[0mindex\u001b[0m \u001b[0;34m=\u001b[0m \u001b[0mself\u001b[0m\u001b[0;34m.\u001b[0m\u001b[0m_next_index\u001b[0m\u001b[0;34m(\u001b[0m\u001b[0;34m)\u001b[0m  \u001b[0;31m# may raise StopIteration\u001b[0m\u001b[0;34m\u001b[0m\u001b[0;34m\u001b[0m\u001b[0m\n\u001b[0;32m--> 561\u001b[0;31m         \u001b[0mdata\u001b[0m \u001b[0;34m=\u001b[0m \u001b[0mself\u001b[0m\u001b[0;34m.\u001b[0m\u001b[0m_dataset_fetcher\u001b[0m\u001b[0;34m.\u001b[0m\u001b[0mfetch\u001b[0m\u001b[0;34m(\u001b[0m\u001b[0mindex\u001b[0m\u001b[0;34m)\u001b[0m  \u001b[0;31m# may raise StopIteration\u001b[0m\u001b[0;34m\u001b[0m\u001b[0;34m\u001b[0m\u001b[0m\n\u001b[0m\u001b[1;32m    562\u001b[0m         \u001b[0;32mif\u001b[0m \u001b[0mself\u001b[0m\u001b[0;34m.\u001b[0m\u001b[0m_pin_memory\u001b[0m\u001b[0;34m:\u001b[0m\u001b[0;34m\u001b[0m\u001b[0;34m\u001b[0m\u001b[0m\n\u001b[1;32m    563\u001b[0m             \u001b[0mdata\u001b[0m \u001b[0;34m=\u001b[0m \u001b[0m_utils\u001b[0m\u001b[0;34m.\u001b[0m\u001b[0mpin_memory\u001b[0m\u001b[0;34m.\u001b[0m\u001b[0mpin_memory\u001b[0m\u001b[0;34m(\u001b[0m\u001b[0mdata\u001b[0m\u001b[0;34m)\u001b[0m\u001b[0;34m\u001b[0m\u001b[0;34m\u001b[0m\u001b[0m\n",
      "\u001b[0;32m/data/proskuryakova/.local/lib/python3.6/site-packages/torch/utils/data/_utils/fetch.py\u001b[0m in \u001b[0;36mfetch\u001b[0;34m(self, possibly_batched_index)\u001b[0m\n\u001b[1;32m     47\u001b[0m     \u001b[0;32mdef\u001b[0m \u001b[0mfetch\u001b[0m\u001b[0;34m(\u001b[0m\u001b[0mself\u001b[0m\u001b[0;34m,\u001b[0m \u001b[0mpossibly_batched_index\u001b[0m\u001b[0;34m)\u001b[0m\u001b[0;34m:\u001b[0m\u001b[0;34m\u001b[0m\u001b[0;34m\u001b[0m\u001b[0m\n\u001b[1;32m     48\u001b[0m         \u001b[0;32mif\u001b[0m \u001b[0mself\u001b[0m\u001b[0;34m.\u001b[0m\u001b[0mauto_collation\u001b[0m\u001b[0;34m:\u001b[0m\u001b[0;34m\u001b[0m\u001b[0;34m\u001b[0m\u001b[0m\n\u001b[0;32m---> 49\u001b[0;31m             \u001b[0mdata\u001b[0m \u001b[0;34m=\u001b[0m \u001b[0;34m[\u001b[0m\u001b[0mself\u001b[0m\u001b[0;34m.\u001b[0m\u001b[0mdataset\u001b[0m\u001b[0;34m[\u001b[0m\u001b[0midx\u001b[0m\u001b[0;34m]\u001b[0m \u001b[0;32mfor\u001b[0m \u001b[0midx\u001b[0m \u001b[0;32min\u001b[0m \u001b[0mpossibly_batched_index\u001b[0m\u001b[0;34m]\u001b[0m\u001b[0;34m\u001b[0m\u001b[0;34m\u001b[0m\u001b[0m\n\u001b[0m\u001b[1;32m     50\u001b[0m         \u001b[0;32melse\u001b[0m\u001b[0;34m:\u001b[0m\u001b[0;34m\u001b[0m\u001b[0;34m\u001b[0m\u001b[0m\n\u001b[1;32m     51\u001b[0m             \u001b[0mdata\u001b[0m \u001b[0;34m=\u001b[0m \u001b[0mself\u001b[0m\u001b[0;34m.\u001b[0m\u001b[0mdataset\u001b[0m\u001b[0;34m[\u001b[0m\u001b[0mpossibly_batched_index\u001b[0m\u001b[0;34m]\u001b[0m\u001b[0;34m\u001b[0m\u001b[0;34m\u001b[0m\u001b[0m\n",
      "\u001b[0;32m/data/proskuryakova/.local/lib/python3.6/site-packages/torch/utils/data/_utils/fetch.py\u001b[0m in \u001b[0;36m<listcomp>\u001b[0;34m(.0)\u001b[0m\n\u001b[1;32m     47\u001b[0m     \u001b[0;32mdef\u001b[0m \u001b[0mfetch\u001b[0m\u001b[0;34m(\u001b[0m\u001b[0mself\u001b[0m\u001b[0;34m,\u001b[0m \u001b[0mpossibly_batched_index\u001b[0m\u001b[0;34m)\u001b[0m\u001b[0;34m:\u001b[0m\u001b[0;34m\u001b[0m\u001b[0;34m\u001b[0m\u001b[0m\n\u001b[1;32m     48\u001b[0m         \u001b[0;32mif\u001b[0m \u001b[0mself\u001b[0m\u001b[0;34m.\u001b[0m\u001b[0mauto_collation\u001b[0m\u001b[0;34m:\u001b[0m\u001b[0;34m\u001b[0m\u001b[0;34m\u001b[0m\u001b[0m\n\u001b[0;32m---> 49\u001b[0;31m             \u001b[0mdata\u001b[0m \u001b[0;34m=\u001b[0m \u001b[0;34m[\u001b[0m\u001b[0mself\u001b[0m\u001b[0;34m.\u001b[0m\u001b[0mdataset\u001b[0m\u001b[0;34m[\u001b[0m\u001b[0midx\u001b[0m\u001b[0;34m]\u001b[0m \u001b[0;32mfor\u001b[0m \u001b[0midx\u001b[0m \u001b[0;32min\u001b[0m \u001b[0mpossibly_batched_index\u001b[0m\u001b[0;34m]\u001b[0m\u001b[0;34m\u001b[0m\u001b[0;34m\u001b[0m\u001b[0m\n\u001b[0m\u001b[1;32m     50\u001b[0m         \u001b[0;32melse\u001b[0m\u001b[0;34m:\u001b[0m\u001b[0;34m\u001b[0m\u001b[0;34m\u001b[0m\u001b[0m\n\u001b[1;32m     51\u001b[0m             \u001b[0mdata\u001b[0m \u001b[0;34m=\u001b[0m \u001b[0mself\u001b[0m\u001b[0;34m.\u001b[0m\u001b[0mdataset\u001b[0m\u001b[0;34m[\u001b[0m\u001b[0mpossibly_batched_index\u001b[0m\u001b[0;34m]\u001b[0m\u001b[0;34m\u001b[0m\u001b[0;34m\u001b[0m\u001b[0m\n",
      "\u001b[0;32m<ipython-input-39-bf25740b32e3>\u001b[0m in \u001b[0;36m__getitem__\u001b[0;34m(self, idx)\u001b[0m\n\u001b[1;32m     26\u001b[0m \u001b[0;34m\u001b[0m\u001b[0m\n\u001b[1;32m     27\u001b[0m         \u001b[0mimg_name\u001b[0m \u001b[0;34m=\u001b[0m \u001b[0mself\u001b[0m\u001b[0;34m.\u001b[0m\u001b[0mdir_path\u001b[0m \u001b[0;34m+\u001b[0m \u001b[0;34m'/'\u001b[0m \u001b[0;34m+\u001b[0m \u001b[0mself\u001b[0m\u001b[0;34m.\u001b[0m\u001b[0mnames\u001b[0m\u001b[0;34m[\u001b[0m\u001b[0midx\u001b[0m\u001b[0;34m]\u001b[0m \u001b[0;34m+\u001b[0m \u001b[0;34m'.npy'\u001b[0m\u001b[0;34m\u001b[0m\u001b[0;34m\u001b[0m\u001b[0m\n\u001b[0;32m---> 28\u001b[0;31m         \u001b[0mimages\u001b[0m \u001b[0;34m=\u001b[0m \u001b[0mnp\u001b[0m\u001b[0;34m.\u001b[0m\u001b[0mload\u001b[0m\u001b[0;34m(\u001b[0m\u001b[0mimg_name\u001b[0m\u001b[0;34m)\u001b[0m\u001b[0;34m[\u001b[0m\u001b[0;34m:\u001b[0m\u001b[0;34m,\u001b[0m \u001b[0;36m1\u001b[0m\u001b[0;34m,\u001b[0m \u001b[0;34m...\u001b[0m\u001b[0;34m]\u001b[0m\u001b[0;34m\u001b[0m\u001b[0;34m\u001b[0m\u001b[0m\n\u001b[0m\u001b[1;32m     29\u001b[0m \u001b[0;34m\u001b[0m\u001b[0m\n\u001b[1;32m     30\u001b[0m \u001b[0;34m\u001b[0m\u001b[0m\n",
      "\u001b[0;32m/data/proskuryakova/.local/lib/python3.6/site-packages/numpy/lib/npyio.py\u001b[0m in \u001b[0;36mload\u001b[0;34m(file, mmap_mode, allow_pickle, fix_imports, encoding)\u001b[0m\n\u001b[1;32m    438\u001b[0m             \u001b[0;32melse\u001b[0m\u001b[0;34m:\u001b[0m\u001b[0;34m\u001b[0m\u001b[0;34m\u001b[0m\u001b[0m\n\u001b[1;32m    439\u001b[0m                 return format.read_array(fid, allow_pickle=allow_pickle,\n\u001b[0;32m--> 440\u001b[0;31m                                          pickle_kwargs=pickle_kwargs)\n\u001b[0m\u001b[1;32m    441\u001b[0m         \u001b[0;32melse\u001b[0m\u001b[0;34m:\u001b[0m\u001b[0;34m\u001b[0m\u001b[0;34m\u001b[0m\u001b[0m\n\u001b[1;32m    442\u001b[0m             \u001b[0;31m# Try a pickle\u001b[0m\u001b[0;34m\u001b[0m\u001b[0;34m\u001b[0m\u001b[0;34m\u001b[0m\u001b[0m\n",
      "\u001b[0;32m/data/proskuryakova/.local/lib/python3.6/site-packages/numpy/lib/format.py\u001b[0m in \u001b[0;36mread_array\u001b[0;34m(fp, allow_pickle, pickle_kwargs)\u001b[0m\n\u001b[1;32m    739\u001b[0m         \u001b[0;32mif\u001b[0m \u001b[0misfileobj\u001b[0m\u001b[0;34m(\u001b[0m\u001b[0mfp\u001b[0m\u001b[0;34m)\u001b[0m\u001b[0;34m:\u001b[0m\u001b[0;34m\u001b[0m\u001b[0;34m\u001b[0m\u001b[0m\n\u001b[1;32m    740\u001b[0m             \u001b[0;31m# We can use the fast fromfile() function.\u001b[0m\u001b[0;34m\u001b[0m\u001b[0;34m\u001b[0m\u001b[0;34m\u001b[0m\u001b[0m\n\u001b[0;32m--> 741\u001b[0;31m             \u001b[0marray\u001b[0m \u001b[0;34m=\u001b[0m \u001b[0mnumpy\u001b[0m\u001b[0;34m.\u001b[0m\u001b[0mfromfile\u001b[0m\u001b[0;34m(\u001b[0m\u001b[0mfp\u001b[0m\u001b[0;34m,\u001b[0m \u001b[0mdtype\u001b[0m\u001b[0;34m=\u001b[0m\u001b[0mdtype\u001b[0m\u001b[0;34m,\u001b[0m \u001b[0mcount\u001b[0m\u001b[0;34m=\u001b[0m\u001b[0mcount\u001b[0m\u001b[0;34m)\u001b[0m\u001b[0;34m\u001b[0m\u001b[0;34m\u001b[0m\u001b[0m\n\u001b[0m\u001b[1;32m    742\u001b[0m         \u001b[0;32melse\u001b[0m\u001b[0;34m:\u001b[0m\u001b[0;34m\u001b[0m\u001b[0;34m\u001b[0m\u001b[0m\n\u001b[1;32m    743\u001b[0m             \u001b[0;31m# This is not a real file. We have to read it the\u001b[0m\u001b[0;34m\u001b[0m\u001b[0;34m\u001b[0m\u001b[0;34m\u001b[0m\u001b[0m\n",
      "\u001b[0;31mKeyboardInterrupt\u001b[0m: "
     ]
    }
   ],
   "source": [
    "for sample in train_loader:\n",
    "    print(sample['image'].shape, len(sample['text']))"
   ]
  },
  {
   "cell_type": "code",
   "execution_count": 42,
   "metadata": {},
   "outputs": [],
   "source": [
    "train_loader, valid_loader = get_data_loaders(dataset, valid_size = 0.2, batch_size = 1)"
   ]
  },
  {
   "cell_type": "code",
   "execution_count": 33,
   "metadata": {},
   "outputs": [],
   "source": [
    "def get_data_loaders(train_dataset, valid_size, batch_size):\n",
    "    num_train = len(train_dataset)\n",
    "    indices = list(range(num_train))\n",
    "    np.random.shuffle(indices)\n",
    "\n",
    "    split = int(np.floor(valid_size * num_train))\n",
    "    train_idx, valid_idx = indices[split:], indices[:split]\n",
    "\n",
    "    # define samplers for obtaining training and validation batches\n",
    "    train_sampler = SubsetRandomSampler(train_idx)\n",
    "    valid_sampler = SubsetRandomSampler(valid_idx)\n",
    "\n",
    "    train_loader = DataLoader(train_dataset, batch_size=batch_size, sampler=train_sampler,\n",
    "                              drop_last=True, shuffle=False)\n",
    "\n",
    "    valid_loader = DataLoader(train_dataset, batch_size=batch_size, sampler=valid_sampler,\n",
    "                               drop_last=True)\n",
    "    return train_loader, valid_loader\n"
   ]
  },
  {
   "cell_type": "code",
   "execution_count": null,
   "metadata": {},
   "outputs": [],
   "source": []
  },
  {
   "cell_type": "code",
   "execution_count": 45,
   "metadata": {},
   "outputs": [
    {
     "data": {
      "text/plain": [
       "dict_keys(['LRC_2414-2614_990004936_70004019', 'LRC_2414-2614_990005019_70004136', 'LRC_2414-2614_990005093_70004208', 'LRC_2414-2614_990005028_70004139', 'LRC_2414-2614_990003766_70004192', 'LRC_2414-2614_990005058_70004148', 'LRC_2414-2614_990004987_70004088', 'LRC_2414-2614_990005089_70004201', 'LRC_2414-2614_990004969_70004062', 'LRC_2414-2614_990002558_70004089', 'LRC_2414-2614_990005026_70004118', 'LRC_2414-2614_990005048_70004179', 'LRC_2414-2614_990005081_70004184', 'LRC_2414-2614_70001002_70004129', 'LRC_2414-2614_990005014_70004152', 'LRC_2414-2614_990005040_70004154', 'LRC_2414-2614_70000293_70004077', 'LRC_2414-2614_990004922_70004031', 'LRC_2414-2614_990004998_70004090', 'LRC_2414-2614_990004965_70004064', 'LRC_2414-2614_990005072_70004191', 'LRC_2414-2614_70000986_70004049', 'LRC_2414-2614_990004948_70004125', 'LRC_2414-2614_990005097_70004213', 'LRC_2414-2614_70001014_70004212', 'LRC_2414-2614_990004981_70004081', 'LRC_2414-2614_990001678_70004126', 'LRC_2414-2614_990004937_70004057', 'LRC_2414-2614_990002559_70004024', 'LRC_2414-2614_990005032_70004183', 'LRC_2414-2614_990005069_70004171', 'LRC_2414-2614_990004921_70004133', 'LRC_2414-2614_990004933_70004020', 'LRC_2414-2614_990004119_70004204', 'LRC_2414-2614_70000998_70004100', 'LRC_2414-2614_990005086_70004206', 'LRC_2414-2614_990004945_70004078', 'LRC_2414-2614_990004939_70004050', 'LRC_2414-2614_990004901_70004011', 'LRC_2414-2614_70000856_70004104', 'LRC_2414-2614_70000983_70004021', 'LRC_2414-2614_990005065_70004174', 'LRC_2414-2614_990005070_70004190', 'LRC_2414-2614_990004934_70004022', 'LRC_2414-2614_990004970_70004067', 'LRC_2414-2614_70000980_70004013', 'LRC_2414-2614_990005085_70004209', 'LRC_2414-2614_990004539_70004123', 'LRC_2414-2614_990001065_70004045', 'LRC_2414-2614_70001017_70004189', 'LRC_2414-2614_990004967_70004059', 'LRC_2414-2614_990005134_70004210', 'LRC_2414-2614_990004876_70004116', 'LRC_2414-2614_990004997_70004075', 'LRC_2414-2614_990005031_70004131', 'LRC_2414-2614_990005074_70004163', 'LRC_2414-2614_70000994_70004095', 'LRC_2414-2614_990001488_70004202', 'LRC_2414-2614_990002905_70004058', 'LRC_2414-2614_990005046_70004159', 'LRC_2414-2614_990004972_70004119', 'LRC_2414-2614_990005039_70004144', 'LRC_2414-2614_990005009_70004109', 'LRC_2414-2614_20000060_70004030', 'LRC_2414-2614_990004976_70004073', 'LRC_2414-2614_70000981_70004014', 'LRC_2414-2614_990004269_70004187', 'LRC_2414-2614_990004923_70004032', 'LRC_2414-2614_70000852_70004193', 'LRC_2414-2614_990005002_70004127', 'LRC_2414-2614_70000993_70004084', 'LRC_2414-2614_990005021_70004134', 'LRC_2414-2614_990005029_70004114', 'LRC_2414-2614_990004995_70004101', 'LRC_2414-2614_990003148_70004063', 'LRC_2414-2614_990005023_70004135', 'LRC_2414-2614_990004929_70004023', 'LRC_2414-2614_990004959_70004039', 'LRC_2414-2614_70000995_70004102', 'LRC_2414-2614_990004963_70004056', 'LRC_2414-2614_990004964_70004053', 'LRC_2414-2614_70000959_70004043', 'LRC_2414-2614_990005033_70004137', 'LRC_2414-2614_990004891_70004008', 'LRC_2414-2614_990004887_70004106', 'LRC_2414-2614_990005128_70004197', 'LRC_2414-2614_70000501_70004167', 'LRC_2414-2614_990004975_70004072', 'LRC_2414-2614_990003303_70004027', 'LRC_2414-2614_70001013_70004168', 'LRC_2414-2614_990001809_70004199', 'LRC_2414-2614_990004954_70004086', 'LRC_2414-2614_70000970_70004012', 'LRC_2414-2614_990005079_70004203', 'LRC_2414-2614_990001702_70004091', 'LRC_2414-2614_990004983_70004079', 'LRC_2414-2614_990005110_70004205', 'LRC_2414-2614_70001003_70004143', 'LRC_2414-2614_70000890_70004185', 'LRC_2414-2614_990004957_70004035', 'LRC_2414-2614_70000984_70004046', 'LRC_2414-2614_990004938_70004034', 'LRC_2414-2614_990005049_70004142', 'LRC_2414-2614_990004960_70004051', 'LRC_2414-2614_990000415_70004122', 'LRC_2414-2614_990004977_70004070', 'LRC_2414-2614_990004917_70004025', 'LRC_2414-2614_70000987_70004041', 'LRC_2414-2614_990005063_70004146', 'LRC_2414-2614_990004423_70004061', 'LRC_2414-2614_990004926_70004026', 'LRC_2414-2614_990005082_70004211', 'LRC_2414-2614_990005056_70004166', 'LRC_2414-2614_990005005_70004110', 'LRC_2414-2614_990004930_70004006', 'LRC_2414-2614_990005054_70004180', 'LRC_2414-2614_990005099_70004194', 'LRC_2414-2614_990002892_70004198', 'LRC_2414-2614_990004903_70004196', 'LRC_2414-2614_990004950_70004074', 'LRC_2414-2614_990004982_70004147', 'LRC_2414-2614_990005016_70004130', 'LRC_2414-2614_990004944_70004052', 'LRC_2414-2614_70000233_70004098', 'LRC_2414-2614_990004985_70004085', 'LRC_2414-2614_990005013_70004120', 'LRC_2414-2614_990005080_70004207', 'LRC_2414-2614_990005101_70004186', 'LRC_2414-2614_990004988_70004117', 'LRC_2414-2614_990001549_70004037', 'LRC_2414-2614_990004952_70004028', 'LRC_2414-2614_990005025_70004138', 'LRC_2414-2614_70001012_70004175', 'LRC_2414-2614_990004902_70004005', 'LRC_2414-2614_70000985_70004044', 'LRC_2414-2614_990004993_70004096', 'LRC_2414-2614_990004962_70004107', 'LRC_2414-2614_990005075_70004176', 'LRC_2414-2614_990003161_70004151', 'LRC_2414-2614_990004757_70004115', 'LRC_2414-2614_990005006_70004111', 'LRC_2414-2614_990004039_70004188', 'LRC_2414-2614_990005007_70004094', 'LRC_2414-2614_990004986_70004087', 'LRC_2414-2614_990005000_70004099', 'LRC_2414-2614_990004951_70004047', 'LRC_2414-2614_990004996_70004141', 'LRC_2414-2614_70000117_70004149', 'LRC_2414-2614_70001005_70004157', 'LRC_2414-2614_70000979_70004076', 'LRC_2414-2614_70000972_70004018', 'LRC_2414-2614_990005095_70004200', 'LRC_2414-2614_990005062_70004172', 'LRC_2414-2614_990005024_70004158', 'LRC_2414-2614_990002689_70004150', 'LRC_2414-2614_990004980_70004140', 'LRC_2414-2614_990004139_70004128', 'LRC_2414-2614_990005036_70004162', 'LRC_2414-2614_990004629_70004083', 'LRC_2414-2614_990004925_70004009', 'LRC_2414-2614_990005004_70004108', 'LRC_2414-2614_990003630_70004153', 'LRC_2414-2614_990005103_70004195', 'LRC_2414-2614_990005012_70004113', 'LRC_2414-2614_990004403_70004069', 'LRC_2414-2614_990005041_70004124', 'LRC_2414-2614_990004991_70004093', 'LRC_2414-2614_990005035_70004156', 'LRC_2414-2614_990005078_70004173', 'LRC_2414-2614_990005068_70004160', 'LRC_2414-2614_990004989_70004092', 'LRC_2414-2614_990004958_70004048', 'LRC_2414-2614_990005120_70004214', 'LRC_2414-2614_990004814_70004155', 'LRC_2414-2614_990005087_70004178', 'LRC_2414-2614_990005037_70004161', 'LRC_2414-2614_990004912_70004007', 'LRC_2414-2614_990004968_70004065', 'LRC_2414-2614_70000996_70004080', 'LRC_2414-2614_70000997_70004103', 'LRC_2414-2614_990004909_70004042', 'LRC_2414-2614_990004918_70004033', 'LRC_2414-2614_990005018_70004132'])"
      ]
     },
     "execution_count": 45,
     "metadata": {},
     "output_type": "execute_result"
    }
   ],
   "source": [
    "imgs.keys()"
   ]
  },
  {
   "cell_type": "code",
   "execution_count": 18,
   "metadata": {},
   "outputs": [
    {
     "name": "stderr",
     "output_type": "stream",
     "text": [
      "/usr/lib/python3/dist-packages/ipykernel_launcher.py:1: VisibleDeprecationWarning: Creating an ndarray from ragged nested sequences (which is a list-or-tuple of lists-or-tuples-or ndarrays with different lengths or shapes) is deprecated. If you meant to do this, you must specify 'dtype=object' when creating the ndarray\n",
      "  \"\"\"Entry point for launching an IPython kernel.\n"
     ]
    },
    {
     "data": {
      "text/plain": [
       "(263, 512, 512)"
      ]
     },
     "execution_count": 18,
     "metadata": {},
     "output_type": "execute_result"
    }
   ],
   "source": [
    "np.array(list(imgs.values()))[0][:, 1, ...].shape\n"
   ]
  },
  {
   "cell_type": "code",
   "execution_count": 5,
   "metadata": {},
   "outputs": [],
   "source": [
    "tst = imgs['LRC_2414-2614_990004936_70004019']"
   ]
  },
  {
   "cell_type": "code",
   "execution_count": 5,
   "metadata": {},
   "outputs": [],
   "source": [
    "import matplotlib.pyplot as plt\n",
    "%matplotlib inline\n",
    "from torchvision import transforms"
   ]
  },
  {
   "cell_type": "code",
   "execution_count": 50,
   "metadata": {},
   "outputs": [],
   "source": [
    "tst = imgs['LRC_2414-2614_990004958_70004048'][:, 1, ...]\n",
    "tst = torch.from_numpy(tst)"
   ]
  },
  {
   "cell_type": "code",
   "execution_count": 51,
   "metadata": {},
   "outputs": [],
   "source": [
    "trans = transforms.Compose([\n",
    "                          transforms.Resize(256),\n",
    "                            transforms.CenterCrop(156),\n",
    "transforms.Lambda(lambda x: x.repeat(3, 1, 1) if x.size(0)==1 else x)])\n",
    "\n",
    "tst1 = [trans(tst[i].unsqueeze(0)/255.) for i in range(tst.shape[0])]\n",
    "\n",
    "images2 = np.stack(tst1)\n",
    "\n",
    "if round(images2.shape[0]/320, 0)  == 2.:\n",
    "    images2 = np.array([images2[i, ...] for i in range(0, images2.shape[3], 1)])\n",
    "tst3 = torch.Tensor(images2.transpose((1, 2, 3, 0)))\n",
    "            #.transpose((1, 2, 3, 0))"
   ]
  },
  {
   "cell_type": "code",
   "execution_count": null,
   "metadata": {},
   "outputs": [],
   "source": []
  },
  {
   "cell_type": "code",
   "execution_count": 39,
   "metadata": {},
   "outputs": [],
   "source": [
    "tst3 = np.array([tst2[i, ...] for i in range(0, tst2.shape[3], 1)])"
   ]
  },
  {
   "cell_type": "code",
   "execution_count": 52,
   "metadata": {},
   "outputs": [
    {
     "data": {
      "text/plain": [
       "torch.Size([3, 156, 156, 335])"
      ]
     },
     "execution_count": 52,
     "metadata": {},
     "output_type": "execute_result"
    }
   ],
   "source": [
    "tst3.shape\n"
   ]
  },
  {
   "cell_type": "code",
   "execution_count": 10,
   "metadata": {},
   "outputs": [],
   "source": [
    "resnet = models.resnet50(pretrained = False)\n",
    "num_ftrs = resnet.fc.in_features\n",
    "res_features = nn.Sequential(*list(resnet.children())[:-1])"
   ]
  },
  {
   "cell_type": "code",
   "execution_count": null,
   "metadata": {},
   "outputs": [],
   "source": []
  },
  {
   "cell_type": "code",
   "execution_count": 31,
   "metadata": {},
   "outputs": [],
   "source": [
    "def image_encode(xis):\n",
    "    resnet = models.video.r3d_18(pretrained = False)\n",
    "    out_dim = 300\n",
    "    num_ftrs = resnet.fc.in_features\n",
    "    res_features = nn.Sequential(*list(resnet.children())[:-1])\n",
    "    # projection MLP for ResNet Model\n",
    "    res_l1 = nn.Linear(num_ftrs, num_ftrs)\n",
    "    res_l2 = nn.Linear(num_ftrs, out_dim)\n",
    "\n",
    "    h = res_features(xis)\n",
    "    x = h.squeeze()\n",
    "    x = res_l1(x)\n",
    "    x = F.relu(x)\n",
    "    x = res_l2(x)\n",
    "\n",
    "    return x"
   ]
  },
  {
   "cell_type": "code",
   "execution_count": 45,
   "metadata": {},
   "outputs": [],
   "source": [
    "def image_encoder(xis, bucket_size):\n",
    "    \n",
    "    if bucket_size is not None:\n",
    "        slice_imbeds = []\n",
    "        for j in range(0, xis.shape[3], bucket_size):\n",
    "            xis_j = xis[..., j:j + bucket_size]\n",
    "            h_j = image_encode(xis_j.unsqueeze(0))\n",
    "            slice_imbeds.append(h_j.squeeze())\n",
    "        print(\"LEN\", len(slice_imbeds))\n",
    "        if len(slice_imbeds) <= 10:\n",
    "            for i in range(10 - len(slice_imbeds)):\n",
    "                slice_imbeds.append(torch.zeros_like(torch.empty(300)))\n",
    "        else:\n",
    "            slice_imbeds = slice_imbeds[:10]\n",
    "        print(\"LEN2\", len(slice_imbeds))\n",
    "        x = torch.cat(slice_imbeds, dim = 0)\n",
    "                    \n",
    "    \n",
    "    return x"
   ]
  },
  {
   "cell_type": "code",
   "execution_count": 21,
   "metadata": {},
   "outputs": [],
   "source": [
    "def concat_embed_model(embeds, out_dim):\n",
    "    res_l1 = nn.Linear(embeds.shape[0], out_dim)\n",
    "    res_l2 = nn.Linear(out_dim, out_dim)\n",
    "\n",
    "    zis = res_l1(embeds)\n",
    "    zis = F.relu(zis)\n",
    "    zis = res_l2(zis)\n",
    "    return zis"
   ]
  },
  {
   "cell_type": "code",
   "execution_count": 53,
   "metadata": {},
   "outputs": [
    {
     "name": "stdout",
     "output_type": "stream",
     "text": [
      "LEN 11\n",
      "LEN2 10\n"
     ]
    }
   ],
   "source": [
    "embeds_concat = image_encoder(tst3, 32)"
   ]
  },
  {
   "cell_type": "code",
   "execution_count": 55,
   "metadata": {},
   "outputs": [
    {
     "data": {
      "text/plain": [
       "tensor([-0.0482, -0.2461,  0.0603,  ..., -0.0710, -0.1721, -0.0659],\n",
       "       grad_fn=<CatBackward0>)"
      ]
     },
     "execution_count": 55,
     "metadata": {},
     "output_type": "execute_result"
    }
   ],
   "source": [
    "embeds_concat"
   ]
  },
  {
   "cell_type": "code",
   "execution_count": 54,
   "metadata": {},
   "outputs": [
    {
     "data": {
      "text/plain": [
       "torch.Size([3000])"
      ]
     },
     "execution_count": 54,
     "metadata": {},
     "output_type": "execute_result"
    }
   ],
   "source": [
    "embeds_concat.shape"
   ]
  },
  {
   "cell_type": "code",
   "execution_count": 22,
   "metadata": {},
   "outputs": [],
   "source": [
    "embed = concat_embed_model(embeds_concat, 300)"
   ]
  },
  {
   "cell_type": "code",
   "execution_count": 23,
   "metadata": {},
   "outputs": [
    {
     "data": {
      "text/plain": [
       "torch.Size([300])"
      ]
     },
     "execution_count": 23,
     "metadata": {},
     "output_type": "execute_result"
    }
   ],
   "source": [
    "embed.shape"
   ]
  },
  {
   "cell_type": "code",
   "execution_count": 23,
   "metadata": {},
   "outputs": [],
   "source": [
    "img_embeds = []\n",
    "tst3 = tst2.unsqueeze(0)\n",
    "for i in range(0, tst3.shape[4], 32):\n",
    "    tst_tr1 = tst3[..., i:i+32]\n",
    "    zis_i = image_encoder(tst_tr1)\n",
    "    img_embeds.append(zis_i.flatten())\n",
    "\n",
    "zis = torch.cat(img_embeds, dim=0)"
   ]
  },
  {
   "cell_type": "code",
   "execution_count": 30,
   "metadata": {},
   "outputs": [],
   "source": [
    "res_l1 = nn.Linear(zis.shape[0], 300)\n",
    "res_l2 = nn.Linear(300, 300)"
   ]
  },
  {
   "cell_type": "code",
   "execution_count": 31,
   "metadata": {},
   "outputs": [],
   "source": [
    "x = res_l1(zis)\n",
    "x = F.relu(x)\n",
    "x = res_l2(x)"
   ]
  },
  {
   "cell_type": "code",
   "execution_count": 33,
   "metadata": {},
   "outputs": [
    {
     "data": {
      "text/plain": [
       "torch.Size([300])"
      ]
     },
     "execution_count": 33,
     "metadata": {},
     "output_type": "execute_result"
    }
   ],
   "source": [
    "x.shape"
   ]
  },
  {
   "cell_type": "code",
   "execution_count": 22,
   "metadata": {},
   "outputs": [
    {
     "data": {
      "text/plain": [
       "tensor([0.7569, 0.7766, 0.6569, 0.6614, 0.6734, 0.5887, 0.7296, 0.7075, 0.6561,\n",
       "        0.6771, 0.6587, 0.6765, 0.7071, 0.6987, 0.6842, 0.6902, 0.6748, 0.7643,\n",
       "        0.6795, 0.6780, 0.6584, 0.6449, 0.6897, 0.6430, 0.6400, 0.8052, 0.6934,\n",
       "        0.5969, 0.6914, 0.6507, 0.6962, 0.6603, 0.7173, 0.7126, 0.7436, 0.5961,\n",
       "        0.6898, 0.7355, 0.6596, 0.7037, 0.6507, 0.6965, 0.7189, 0.7202, 0.7046,\n",
       "        0.7148, 0.6779, 0.5995, 0.6018, 0.8002, 0.6575, 0.6513, 0.6282, 0.6617,\n",
       "        0.6717, 0.6916, 0.7606, 0.6526, 0.7699, 0.6509, 0.7181, 0.6822, 0.6681,\n",
       "        0.7189, 0.7066, 0.6770, 0.6766, 0.7566, 0.7264, 0.6257, 0.6802, 0.6796,\n",
       "        0.7048, 0.6664, 0.6844, 0.6535, 0.6940, 0.6820, 0.6638, 0.6926, 0.6759,\n",
       "        0.6693, 0.7657, 0.6442, 0.7330, 0.6299, 0.7069, 0.6676, 0.6354, 0.6466,\n",
       "        0.6614, 0.6603, 0.6743, 0.6525, 0.5904, 0.7254, 0.8126, 0.6554, 0.6592,\n",
       "        0.7157, 0.6508, 0.7719, 0.7097, 0.6924, 0.7468, 0.6071, 0.6460, 0.6878,\n",
       "        0.7323, 0.6739, 0.7478, 0.6869, 0.7119, 0.6454, 0.7152, 0.7468, 0.6942,\n",
       "        0.7057, 0.6352, 0.7341, 0.6710, 0.6486, 0.6327, 0.6479, 0.6121, 0.6843,\n",
       "        0.7991, 0.7708, 0.6911, 0.6283, 0.6063, 0.7613, 0.7101, 0.7292, 0.6141,\n",
       "        0.6645, 0.5986, 0.7776, 0.6804, 0.7220, 0.7659, 0.7404, 0.6522, 0.7058,\n",
       "        0.7036, 0.6498, 0.6718, 0.7063, 0.7185, 0.6318, 0.6922, 0.6290, 0.6952,\n",
       "        0.6863, 0.6883, 0.7136, 0.6968, 0.6822, 0.6975, 0.6398, 0.7553, 0.6818,\n",
       "        0.6257, 0.6984, 0.7340, 0.7113, 0.6330, 0.6028, 0.6943, 0.7521, 0.6109,\n",
       "        0.6570, 0.6721, 0.7015, 0.7145, 0.6944, 0.7157, 0.6232, 0.6774, 0.6785,\n",
       "        0.7024, 0.7262, 0.7345, 0.6738, 0.7017, 0.6562, 0.6882, 0.6504, 0.6558,\n",
       "        0.6357, 0.6129, 0.7026, 0.6901, 0.6647, 0.6504, 0.6893, 0.6806, 0.7270,\n",
       "        0.7163, 0.6758, 0.6715, 0.7631, 0.8533, 0.7348, 0.6622, 0.6768, 0.7633,\n",
       "        0.7264, 0.6533, 0.7457, 0.6605, 0.6845, 0.6592, 0.6662, 0.6935, 0.6560,\n",
       "        0.7146, 0.6540, 0.7034, 0.6341, 0.6865, 0.7115, 0.6772, 0.7626, 0.6448,\n",
       "        0.6562, 0.6333, 0.7124, 0.6563, 0.6788, 0.6549, 0.7039, 0.6735, 0.6398,\n",
       "        0.8413, 0.6806, 0.6547, 0.7158, 0.6776, 0.6434, 0.6954, 0.7673, 0.6604,\n",
       "        0.8277, 0.6360, 0.7375, 0.7300, 0.7448, 0.6881, 0.7315, 0.7013, 0.6484,\n",
       "        0.6983, 0.6975, 0.7111, 0.7164, 0.7191, 0.6842, 0.7310, 0.6463, 0.6784,\n",
       "        0.6796, 0.6752, 0.6558, 0.6398, 0.6649, 0.6993, 0.7163, 0.7230, 0.6583,\n",
       "        0.6226, 0.7678, 0.7416, 0.6482, 0.6828, 0.6484, 0.6971, 0.6481, 0.6338,\n",
       "        0.7328, 0.7134, 0.6794, 0.6317, 0.6448, 0.6596, 0.6621, 0.6948, 0.6687,\n",
       "        0.6361, 0.6505, 0.6194, 0.6616, 0.6582, 0.6269, 0.6977, 0.6320, 0.7017,\n",
       "        0.7027, 0.6661, 0.7148, 0.6662, 0.7708, 0.6460, 0.6231, 0.7227, 0.6953,\n",
       "        0.6400, 0.6350, 0.6824, 0.6393, 0.7362, 0.6454, 0.6388, 0.7011, 0.6829,\n",
       "        0.6655, 0.6427, 0.6986, 0.7121, 0.7070, 0.7169, 0.6821, 0.7007, 0.7907,\n",
       "        0.7406, 0.6362, 0.6818, 0.6129, 0.7479, 0.6282, 0.7031, 0.7072, 0.6381,\n",
       "        0.6933, 0.7461, 0.7445, 0.7521, 0.7043, 0.6984, 0.6789, 0.6883, 0.7156,\n",
       "        0.6632, 0.6806, 0.5896, 0.7663, 0.7065, 0.6692, 0.7162, 0.6133, 0.7166,\n",
       "        0.7065, 0.6412, 0.6357, 0.6975, 0.6890, 0.7383, 0.6508, 0.6800, 0.6580,\n",
       "        0.7487, 0.6884, 0.6468, 0.6612, 0.6989, 0.7404, 0.7201, 0.6926, 0.6899,\n",
       "        0.6748, 0.6877, 0.6716, 0.5943, 0.7285, 0.7219, 0.6632, 0.6303, 0.6802,\n",
       "        0.6761, 0.6886, 0.6525, 0.6243, 0.6456, 0.7303, 0.7063, 0.7151, 0.7012,\n",
       "        0.6392, 0.6950, 0.6920, 0.7029, 0.7058, 0.6805, 0.6327, 0.6188, 0.6467,\n",
       "        0.7009, 0.7235, 0.6671, 0.7062, 0.6987, 0.7082, 0.6844, 0.7599, 0.6965,\n",
       "        0.6693, 0.6837, 0.6852, 0.6664, 0.7217, 0.7381, 0.6286, 0.6694, 0.6752,\n",
       "        0.6711, 0.6973, 0.6485, 0.6272, 0.7366, 0.6832, 0.6656, 0.6378, 0.6804,\n",
       "        0.6879, 0.7090, 0.6596, 0.6728, 0.5970, 0.6890, 0.7060, 0.7028, 0.6875,\n",
       "        0.6782, 0.6362, 0.6729, 0.6542, 0.6531, 0.6606, 0.6879, 0.6805, 0.6371,\n",
       "        0.7711, 0.6111, 0.7160, 0.7296, 0.6729, 0.7022, 0.6704, 0.6376, 0.7143,\n",
       "        0.5949, 0.6748, 0.6387, 0.6883, 0.6868, 0.7282, 0.6723, 0.7600, 0.7084,\n",
       "        0.6580, 0.6270, 0.6601, 0.6747, 0.7148, 0.6711, 0.6695, 0.7473, 0.6588,\n",
       "        0.6280, 0.6541, 0.7596, 0.6801, 0.6291, 0.7021, 0.6870, 0.7377, 0.7634,\n",
       "        0.6981, 0.6867, 0.6358, 0.7165, 0.6919, 0.6747, 0.6790, 0.5945, 0.6948,\n",
       "        0.6566, 0.7601, 0.6582, 0.7394, 0.7266, 0.7043, 0.7033, 0.7468, 0.6168,\n",
       "        0.6949, 0.6832, 0.6895, 0.6806, 0.6405, 0.6661, 0.6651, 0.7061, 0.6978,\n",
       "        0.7124, 0.6764, 0.6565, 0.6956, 0.6568, 0.6507, 0.6774, 0.6113],\n",
       "       grad_fn=<MeanBackward1>)"
      ]
     },
     "execution_count": 22,
     "metadata": {},
     "output_type": "execute_result"
    }
   ],
   "source": [
    "zis.mean(dim = 0)"
   ]
  },
  {
   "cell_type": "code",
   "execution_count": null,
   "metadata": {},
   "outputs": [],
   "source": []
  },
  {
   "cell_type": "code",
   "execution_count": null,
   "metadata": {},
   "outputs": [],
   "source": []
  },
  {
   "cell_type": "code",
   "execution_count": null,
   "metadata": {},
   "outputs": [],
   "source": [
    "transforms.Normalize(mean=[0.485, 0.456, 0.406],std=[0.229, 0.224, 0.225])\n",
    " transforms.CenterCrop(224),"
   ]
  },
  {
   "cell_type": "code",
   "execution_count": 126,
   "metadata": {},
   "outputs": [],
   "source": [
    "trans = transforms.Compose([transforms.Resize(256),\n",
    "                            transforms.CenterCrop(156),\n",
    "                            transforms.Lambda(lambda x: x.repeat(1, 3, 1, 1) if x.size(1)==1 else x)\n",
    "                           \n",
    "                            ])\n",
    "tst_tr = trans(tst.float().unsqueeze(1)/255.)\n",
    "\n",
    "tst_tr = torch.reshape(tst_tr, (tst_tr.shape[1], tst_tr.shape[2],\n",
    "                            tst_tr.shape[3], tst_tr.shape[0]))"
   ]
  },
  {
   "cell_type": "code",
   "execution_count": 59,
   "metadata": {},
   "outputs": [
    {
     "data": {
      "text/plain": [
       "torch.Size([263, 1, 512, 512])"
      ]
     },
     "execution_count": 59,
     "metadata": {},
     "output_type": "execute_result"
    }
   ],
   "source": [
    "tst.float().unsqueeze(1).shape"
   ]
  },
  {
   "cell_type": "code",
   "execution_count": 127,
   "metadata": {},
   "outputs": [
    {
     "data": {
      "text/plain": [
       "torch.Size([263, 3, 156, 156])"
      ]
     },
     "execution_count": 127,
     "metadata": {},
     "output_type": "execute_result"
    }
   ],
   "source": [
    "tst_tr.shape"
   ]
  },
  {
   "cell_type": "code",
   "execution_count": 168,
   "metadata": {},
   "outputs": [],
   "source": [
    "tst3 = tst2[..., 59]"
   ]
  },
  {
   "cell_type": "code",
   "execution_count": 27,
   "metadata": {},
   "outputs": [
    {
     "data": {
      "text/plain": [
       "torch.Size([371, 512, 512])"
      ]
     },
     "execution_count": 27,
     "metadata": {},
     "output_type": "execute_result"
    }
   ],
   "source": [
    "tst.shape"
   ]
  },
  {
   "cell_type": "code",
   "execution_count": 33,
   "metadata": {},
   "outputs": [
    {
     "data": {
      "text/plain": [
       "2.0"
      ]
     },
     "execution_count": 33,
     "metadata": {},
     "output_type": "execute_result"
    }
   ],
   "source": [
    "round(551/320, 0)"
   ]
  },
  {
   "cell_type": "code",
   "execution_count": 32,
   "metadata": {},
   "outputs": [
    {
     "data": {
      "text/plain": [
       "<matplotlib.image.AxesImage at 0x7fa8a38c7860>"
      ]
     },
     "execution_count": 32,
     "metadata": {},
     "output_type": "execute_result"
    },
    {
     "data": {
      "image/png": "[encoded data removed]",
      "text/plain": [
       "<Figure size 432x288 with 1 Axes>"
      ]
     },
     "metadata": {},
     "output_type": "display_data"
    }
   ],
   "source": [
    "plt.imshow(tst[360])"
   ]
  },
  {
   "cell_type": "code",
   "execution_count": 143,
   "metadata": {},
   "outputs": [],
   "source": [
    "import PIL\n",
    "t = PIL.Image.open('/data/burenko/datasets/pet-ct/LRC_2414-2614_990004936_70004019/000.png').convert('RGB')"
   ]
  },
  {
   "cell_type": "code",
   "execution_count": 144,
   "metadata": {},
   "outputs": [],
   "source": [
    "trans = transforms.PILToTensor()\n",
    "tmp = trans(t)"
   ]
  },
  {
   "cell_type": "code",
   "execution_count": 150,
   "metadata": {},
   "outputs": [
    {
     "data": {
      "text/plain": [
       "<matplotlib.image.AxesImage at 0x7fa9f7d6bdd8>"
      ]
     },
     "execution_count": 150,
     "metadata": {},
     "output_type": "execute_result"
    },
    {
     "data": {
      "image/png": "[encoded data removed]",
      "text/plain": [
       "<Figure size 432x288 with 1 Axes>"
      ]
     },
     "metadata": {},
     "output_type": "display_data"
    }
   ],
   "source": [
    "plt.imshow(tmp.numpy().transpose((1, 2, 0)))"
   ]
  },
  {
   "cell_type": "code",
   "execution_count": 124,
   "metadata": {},
   "outputs": [
    {
     "data": {
      "text/plain": [
       "<matplotlib.image.AxesImage at 0x7fa9f8133518>"
      ]
     },
     "execution_count": 124,
     "metadata": {},
     "output_type": "execute_result"
    },
    {
     "data": {
      "image/png": "[encoded data removed]",
      "text/plain": [
       "<Figure size 432x288 with 1 Axes>"
      ]
     },
     "metadata": {},
     "output_type": "display_data"
    }
   ],
   "source": [
    "plt.imshow(tst[89])"
   ]
  },
  {
   "cell_type": "code",
   "execution_count": 125,
   "metadata": {},
   "outputs": [
    {
     "data": {
      "text/plain": [
       "torch.Size([512, 512])"
      ]
     },
     "execution_count": 125,
     "metadata": {},
     "output_type": "execute_result"
    }
   ],
   "source": [
    "tst[89].shape"
   ]
  },
  {
   "cell_type": "code",
   "execution_count": 23,
   "metadata": {},
   "outputs": [
    {
     "name": "stderr",
     "output_type": "stream",
     "text": [
      "/usr/lib/python3/dist-packages/ipykernel_launcher.py:1: VisibleDeprecationWarning: Creating an ndarray from ragged nested sequences (which is a list-or-tuple of lists-or-tuples-or ndarrays with different lengths or shapes) is deprecated. If you meant to do this, you must specify 'dtype=object' when creating the ndarray\n",
      "  \"\"\"Entry point for launching an IPython kernel.\n"
     ]
    },
    {
     "data": {
      "image/png": "[encoded data removed]",
      "text/plain": [
       "<Figure size 432x288 with 1 Axes>"
      ]
     },
     "metadata": {},
     "output_type": "display_data"
    }
   ],
   "source": [
    "imgplot = plt.imshow(np.array(list(imgs.values()))[0][100, 1, ...], cmap='gray')\n"
   ]
  },
  {
   "cell_type": "code",
   "execution_count": 35,
   "metadata": {},
   "outputs": [
    {
     "data": {
      "text/plain": [
       "<matplotlib.image.AxesImage at 0x7f8a85b53c18>"
      ]
     },
     "execution_count": 35,
     "metadata": {},
     "output_type": "execute_result"
    },
    {
     "data": {
      "image/png": "[encoded data removed]",
      "text/plain": [
       "<Figure size 432x288 with 1 Axes>"
      ]
     },
     "metadata": {},
     "output_type": "display_data"
    }
   ],
   "source": [
    "plt.imshow(tst[200])"
   ]
  },
  {
   "cell_type": "code",
   "execution_count": 46,
   "metadata": {},
   "outputs": [
    {
     "data": {
      "text/plain": [
       "<matplotlib.image.AxesImage at 0x7f8a7dafb128>"
      ]
     },
     "execution_count": 46,
     "metadata": {},
     "output_type": "execute_result"
    },
    {
     "data": {
      "image/png": "[encoded data removed]",
      "text/plain": [
       "<Figure size 432x288 with 1 Axes>"
      ]
     },
     "metadata": {},
     "output_type": "display_data"
    }
   ],
   "source": [
    "plt.imshow(tst[200].unsqueeze(0).repeat(3, 1, 1).permute(1, 2, 0))"
   ]
  },
  {
   "cell_type": "code",
   "execution_count": 45,
   "metadata": {},
   "outputs": [
    {
     "data": {
      "text/plain": [
       "torch.Size([512, 512, 3])"
      ]
     },
     "execution_count": 45,
     "metadata": {},
     "output_type": "execute_result"
    }
   ],
   "source": [
    "tst[200].unsqueeze(0).repeat(3, 1, 1).permute(1, 2, 0).shape"
   ]
  },
  {
   "cell_type": "code",
   "execution_count": 44,
   "metadata": {},
   "outputs": [
    {
     "data": {
      "image/png": "[encoded data removed]",
      "text/plain": [
       "<Figure size 432x288 with 1 Axes>"
      ]
     },
     "metadata": {},
     "output_type": "display_data"
    }
   ],
   "source": [
    "imgplot = plt.imshow(tst[0][0], cmap='gray')"
   ]
  },
  {
   "cell_type": "code",
   "execution_count": 50,
   "metadata": {},
   "outputs": [],
   "source": [
    "txt_tst = ''\n",
    "with open('/data/burenko/datasets/pet-ct/LRC_2414-2614_990004936_70004019.txt.txt') as file:\n",
    "    for line in file:\n",
    "        txt_tst.join(line.rstrip())"
   ]
  },
  {
   "cell_type": "code",
   "execution_count": 60,
   "metadata": {},
   "outputs": [],
   "source": [
    "with open('/data/burenko/datasets/pet-ct/LRC_2414-2614_990004936_70004019.txt.txt', 'r') as file:\n",
    "    data = file.read().rstrip().replace('\\n', ' ')"
   ]
  },
  {
   "cell_type": "code",
   "execution_count": 61,
   "metadata": {},
   "outputs": [
    {
     "data": {
      "text/plain": [
       "'ПЭТ/КТ-всего тела(от затылочной кости до средней трети бедра)  Дата приема: 09.04.2018 Номер карты: 990004933 Пол: Жен Возраст: 59 Дата рождения: 18.05.1958 Наименование медицинской техники: Позитронно-эмиссионный томограф, совмещенный с компьютерным томографом / GE Discovery 610 Радиофармпрепарат: 18Е-ФДГ Введено в/в: 280 Время введения РФП: 09:44 Эффективная доза РФГП: 5.3 Эффективная доза КТ: 16.5 Единицы измерения ($/\\\\тах): 5/т!* $ИМЬт Контрастное вещество Рег о5: Урографин 76% - 10мл (водный раствор) Контрастное усиление в/в: нет Аллергическая реакция: нет  Причина обращения: рак (инфильтративный низкодифференцированный плоскоклеточный) пищевода. Резекция пищевода с одномоментной пластикой в апреле 2016 г.  Область головы (частично, от орбитомеатальной линии) и шеи: На серии ПЭТ/КТ всего тела (сканирование проведено от орбито-меатальной линии до нижней/трети бедра) при исследовании метаболизма глюкозы по стандартному протоколу без в/в введения йодсодержащего препарата в аксиальной проекции КТ с проведением ряда реконструкций ПЭТ:  Глазные яблоки, зрительные нервы, ретробульбарные пространства не изменены. Пневматизация пазух носа не нарушена. Слюнные железы без особенностей.  Анатомия полости рта и ротоглотки без особенностей. Глотка и гортань анатомически правильно развиты. Их контуры ровные и четкие, стенки не утолщены.  Щитовидная железа расположена обычно, размеры ее долей не увеличены. Доли щитовидной железы имеют ровные и четкие контуры, однородную структуру.  Патологических образований в области мягких тканей шеи не выявлено. Лимфатические узлы не увеличены. Очагов патологического метаболизма ФДГ нет. Физиологическая гиперфиксация РФП в ротоглотке, носоглотке.  Органы грудной клетки: В над- и подключичной области с 2-х сторон л/узлы не увеличены. По ходу анастомоза и п/операционных скрепок гиперфиксации ФДГ нет.  В $1 справа с прорастанием в плевру и деструкцией заднего отрезка !!! ребра протяженностью до 33 мм, определяется объемное образование, размером до 40х35 мм с гиперфиксацией ФДГ ($/\\\\Мтах=16,51).  Определяется тотальная деструкция | ребра слева, на фоне чего в проекции ребра на всем протяжении определяется метаболически активная ткань, толщиной до 35 мм ($/\\\\/тах=13,74)  В субплевральных отделах 58 справа определяется мягкотканый участок паренхимы, размером до 23х7 мм без гиперфиксации ФДГ.  Средостение не смещено и не расширено. Увеличенных, метаболически активных лимфатических узлов средостения и корней левого легкого не визуализируется. В корне правого легкого определяется единичный метболически активный л/узел, размером до 8 мм в диаметре, с гиперфиксацией ФДГ ($/\\\\тах=4,71).  В плевральных полостях и полости перикарда экссудата нет.  В молочной железе с обеих сторон очагов гиперфиксации ФДГ не определяется. На границе наружных квадрантов правой молочной железы определяется кальцинат, размером до 10Х7 мм.  В аксиллярной области с 2-х сторон л\\\\узлы не увеличены.  Органы брюшной полости: Печень обычно расположена, в размерах не увеличена, очагов патологического метаболизма ФДГ в структуре паренхимы нет.  Желчный пузырь типично расположен, рентгенконтрастных конкрементов не визуализируется. Холедох не расширен. Поджелудочная железа в размерах не увеличена, компактного строения, очагов гиперметаболизма ФДГ нет. Парапанкреатическая клетчатка - без инфильтративных изменений.  Селезенка в размерах не увеличена с четкими ровными контурами, в структуре паренхимы очаговых изменений нет. Надпочечники обычно расположены, в структуре очагов гиперфиксации ФДГ нет. Почки расположены обычно, контур четкий, ровный. В паренхиме достоверно очаговых изменений нет.ЧЛС с 2-х сторон сформирована обычно, не деформирована, не расширена, рентгенконтрастных конкрементов нет.  Л/узлы брюшной полости и забрюшинного пространства не увеличены.  Отмечаются множественные мелкие забрюшинные л/узлы на всех уровнях, размером до 8 мм в диаметре, без гиперфиксации ФДГ.  Свободной жидкости в брюшной полости нет.  Органы малого таза: Дополнительных образований в области таза не визуализируется. Клетчатка не изменена. Тазовые и периферические лимфатические узлы не увеличены.Очагов патологического метаболизма ФДГ не выявлено. Физиологическая гиперфиксация РФП в мочевом пузыре, по ходу дистальных отделов толстой кишки.  Костная система: Признаков остеобластических или остеолитических изменений с патологической гиперфиксацией РФП за исключение описанных ранее не выявлено.  Диагноз по МКБ-10: {С15.2} Абдоминального отдела пищевода {Открыт }  Заключение: При ПЭТ/КТ с 18Е-ФДГ получены данные о наличии активной специфической ткани в правом легком, в стенке \\x0cлевого гемиторакса с деструкцией описанных костей, так же вл/узле корня правого легкого (мтс). Мягкотканый участок паренхимы в нижней доле правого легкого без гиперфиксации ФДГ. Забрюшинная количественная лимфоаденопатия без гиперфиксации ФДГ.  Совпадение с (направляемым) диагнозом в направлении по локализации первичного очага : Да Первично-множественный рак: Нет  М5 поражения: Да  Исследование: Первичное  Эффективность лечения при повторных исследованиях: -  Лучевая терапия: Нет  Нейроэндокринная опухоль(негативный вариант): Нет  Химиотерапия: Нет  Оперативные вмешательства: Да  Т:х  N: x  M: x  Визуализация: после лечения  Гистология: инфильтративный низкодифференцированный плоскоклеточный Выполнение диагностической услуги: Выполнена в полном объеме Диагноз: Подтверждён и детализирован  Оценка качества ведения документации: Удовлетворительное  Заключение по соответствию требованиям: Соответствует  Примечание: Нет  Объем введенного РФП соответствует полученному результату сканирования: Да Экстравазация: Нет  Укладка сделанная лаборантом: правильная  Качество КТ-сканирования: Хорошее  Исследование проведено по показанию: Да  Исследование выполнено в полном объеме: Да  Оценка качества ведения документации: удовлетворительно'"
      ]
     },
     "execution_count": 61,
     "metadata": {},
     "output_type": "execute_result"
    }
   ],
   "source": [
    "data"
   ]
  },
  {
   "cell_type": "code",
   "execution_count": 40,
   "metadata": {},
   "outputs": [],
   "source": [
    "decompress_zstandard_to_folder('data_examples/LRC_2414-2614_990004982_70004147.npy.zst')"
   ]
  },
  {
   "cell_type": "code",
   "execution_count": 44,
   "metadata": {},
   "outputs": [],
   "source": [
    "npy_file1 = np.load('data_examples/LRC_2414-2614_990005039_70004144.npy')\n",
    "npy_file2 = np.load('data_examples/npy_exmpl/LRC_2414-2614_990004982_70004147.npy')"
   ]
  },
  {
   "cell_type": "code",
   "execution_count": 42,
   "metadata": {},
   "outputs": [
    {
     "data": {
      "text/plain": [
       "(335, 2, 512, 512)"
      ]
     },
     "execution_count": 42,
     "metadata": {},
     "output_type": "execute_result"
    }
   ],
   "source": [
    "npy_file2.shape"
   ]
  },
  {
   "cell_type": "code",
   "execution_count": 45,
   "metadata": {},
   "outputs": [
    {
     "data": {
      "text/plain": [
       "(263, 2, 512, 512)"
      ]
     },
     "execution_count": 45,
     "metadata": {},
     "output_type": "execute_result"
    }
   ],
   "source": [
    "npy_file1.shape"
   ]
  },
  {
   "cell_type": "code",
   "execution_count": 19,
   "metadata": {},
   "outputs": [],
   "source": [
    "npy_file = np.load('data_examples/LRC_2414-2614_990004982_70004147.npy')"
   ]
  },
  {
   "cell_type": "code",
   "execution_count": 26,
   "metadata": {},
   "outputs": [
    {
     "data": {
      "text/plain": [
       "array([[[0, 0, 0, ..., 0, 0, 0],\n",
       "        [0, 0, 0, ..., 0, 0, 0],\n",
       "        [0, 0, 0, ..., 0, 0, 0],\n",
       "        ...,\n",
       "        [0, 0, 0, ..., 0, 0, 0],\n",
       "        [0, 0, 0, ..., 0, 0, 0],\n",
       "        [0, 0, 0, ..., 0, 0, 0]],\n",
       "\n",
       "       [[0, 0, 0, ..., 0, 0, 0],\n",
       "        [0, 0, 0, ..., 0, 0, 0],\n",
       "        [0, 0, 0, ..., 0, 0, 0],\n",
       "        ...,\n",
       "        [0, 0, 0, ..., 0, 0, 0],\n",
       "        [0, 0, 0, ..., 0, 0, 0],\n",
       "        [0, 0, 0, ..., 0, 0, 0]]], dtype=uint8)"
      ]
     },
     "execution_count": 26,
     "metadata": {},
     "output_type": "execute_result"
    }
   ],
   "source": [
    "npy_file[334]"
   ]
  },
  {
   "cell_type": "code",
   "execution_count": 62,
   "metadata": {},
   "outputs": [],
   "source": [
    "from transformers import AutoTokenizer\n",
    "tokenizer = AutoTokenizer.from_pretrained('cointegrated/rubert-tiny')\n",
    "\n",
    "xls = tokenizer(list(data), \n",
    "                                    return_tensors=\"pt\", \n",
    "                                    padding=True)"
   ]
  },
  {
   "cell_type": "code",
   "execution_count": 66,
   "metadata": {},
   "outputs": [
    {
     "name": "stderr",
     "output_type": "stream",
     "text": [
      "Some weights of the model checkpoint at cointegrated/rubert-tiny were not used when initializing BertModel: ['cls.seq_relationship.weight', 'cls.seq_relationship.bias', 'cls.predictions.transform.LayerNorm.weight', 'cls.predictions.transform.dense.bias', 'cls.predictions.decoder.weight', 'cls.predictions.bias', 'cls.predictions.transform.dense.weight', 'cls.predictions.transform.LayerNorm.bias', 'cls.predictions.decoder.bias']\n",
      "- This IS expected if you are initializing BertModel from the checkpoint of a model trained on another task or with another architecture (e.g. initializing a BertForSequenceClassification model from a BertForPreTraining model).\n",
      "- This IS NOT expected if you are initializing BertModel from the checkpoint of a model that you expect to be exactly identical (initializing a BertForSequenceClassification model from a BertForSequenceClassification model).\n"
     ]
    }
   ],
   "source": [
    "from transformers import AutoTokenizer, AutoModel\n",
    "tokenizer = AutoTokenizer.from_pretrained(\"cointegrated/rubert-tiny\")\n",
    "model = AutoModel.from_pretrained(\"cointegrated/rubert-tiny\")\n",
    "# model.cuda()  # uncomment it if you have a GPU\n",
    "\n",
    "def embed_bert_cls(text, model, tokenizer):\n",
    "    t = tokenizer(text, padding=True, truncation=True, return_tensors='pt')\n",
    "    with torch.no_grad():\n",
    "        model_output = model(**{k: v.to(model.device) for k, v in t.items()})\n",
    "    embeddings = model_output.last_hidden_state[:, 0, :]\n",
    "    embeddings = torch.nn.functional.normalize(embeddings)\n",
    "    return embeddings[0].cpu().numpy()\n"
   ]
  },
  {
   "cell_type": "code",
   "execution_count": 67,
   "metadata": {},
   "outputs": [],
   "source": [
    "a = embed_bert_cls(data, model, tokenizer)"
   ]
  },
  {
   "cell_type": "code",
   "execution_count": 68,
   "metadata": {},
   "outputs": [
    {
     "data": {
      "text/plain": [
       "(312,)"
      ]
     },
     "execution_count": 68,
     "metadata": {},
     "output_type": "execute_result"
    }
   ],
   "source": [
    "a.shape"
   ]
  },
  {
   "cell_type": "code",
   "execution_count": 90,
   "metadata": {
    "collapsed": true,
    "jupyter": {
     "outputs_hidden": true
    },
    "tags": []
   },
   "outputs": [
    {
     "name": "stdout",
     "output_type": "stream",
     "text": [
      "{'input_ids': tensor([[   101,   1177,  58633,  ...,  27628, 113018,    102]]), 'token_type_ids': tensor([[0, 0, 0,  ..., 0, 0, 0]]), 'attention_mask': tensor([[1, 1, 1,  ..., 1, 1, 1]])}\n",
      "{'input_ids': tensor([[   101,   1177,  58633,  ...,  27628, 113018,    102]],\n",
      "       device='cuda:0'), 'token_type_ids': tensor([[0, 0, 0,  ..., 0, 0, 0]], device='cuda:0'), 'attention_mask': tensor([[1, 1, 1,  ..., 1, 1, 1]], device='cuda:0')}\n"
     ]
    },
    {
     "ename": "RuntimeError",
     "evalue": "The size of tensor a (1034) must match the size of tensor b (512) at non-singleton dimension 1",
     "output_type": "error",
     "traceback": [
      "\u001b[0;31m---------------------------------------------------------------------------\u001b[0m",
      "\u001b[0;31mRuntimeError\u001b[0m                              Traceback (most recent call last)",
      "\u001b[0;32m<ipython-input-90-17d58c3fe560>\u001b[0m in \u001b[0;36m<module>\u001b[0;34m()\u001b[0m\n\u001b[1;32m     30\u001b[0m \u001b[0mmodel\u001b[0m\u001b[0;34m.\u001b[0m\u001b[0mto\u001b[0m\u001b[0;34m(\u001b[0m\u001b[0mdevice\u001b[0m\u001b[0;34m)\u001b[0m\u001b[0;34m\u001b[0m\u001b[0;34m\u001b[0m\u001b[0m\n\u001b[1;32m     31\u001b[0m \u001b[0;32mwith\u001b[0m \u001b[0mtorch\u001b[0m\u001b[0;34m.\u001b[0m\u001b[0mno_grad\u001b[0m\u001b[0;34m(\u001b[0m\u001b[0;34m)\u001b[0m\u001b[0;34m:\u001b[0m\u001b[0;34m\u001b[0m\u001b[0;34m\u001b[0m\u001b[0m\n\u001b[0;32m---> 32\u001b[0;31m     \u001b[0mmodel_output\u001b[0m \u001b[0;34m=\u001b[0m \u001b[0mmodel\u001b[0m\u001b[0;34m(\u001b[0m\u001b[0;34m**\u001b[0m\u001b[0mencoded_input\u001b[0m\u001b[0;34m)\u001b[0m\u001b[0;34m\u001b[0m\u001b[0;34m\u001b[0m\u001b[0m\n\u001b[0m\u001b[1;32m     33\u001b[0m \u001b[0;34m\u001b[0m\u001b[0m\n\u001b[1;32m     34\u001b[0m \u001b[0;31m#Perform pooling. In this case, mean pooling\u001b[0m\u001b[0;34m\u001b[0m\u001b[0;34m\u001b[0m\u001b[0;34m\u001b[0m\u001b[0m\n",
      "\u001b[0;32m/data/proskuryakova/.local/lib/python3.6/site-packages/torch/nn/modules/module.py\u001b[0m in \u001b[0;36m_call_impl\u001b[0;34m(self, *input, **kwargs)\u001b[0m\n\u001b[1;32m   1100\u001b[0m         if not (self._backward_hooks or self._forward_hooks or self._forward_pre_hooks or _global_backward_hooks\n\u001b[1;32m   1101\u001b[0m                 or _global_forward_hooks or _global_forward_pre_hooks):\n\u001b[0;32m-> 1102\u001b[0;31m             \u001b[0;32mreturn\u001b[0m \u001b[0mforward_call\u001b[0m\u001b[0;34m(\u001b[0m\u001b[0;34m*\u001b[0m\u001b[0minput\u001b[0m\u001b[0;34m,\u001b[0m \u001b[0;34m**\u001b[0m\u001b[0mkwargs\u001b[0m\u001b[0;34m)\u001b[0m\u001b[0;34m\u001b[0m\u001b[0;34m\u001b[0m\u001b[0m\n\u001b[0m\u001b[1;32m   1103\u001b[0m         \u001b[0;31m# Do not call functions when jit is used\u001b[0m\u001b[0;34m\u001b[0m\u001b[0;34m\u001b[0m\u001b[0;34m\u001b[0m\u001b[0m\n\u001b[1;32m   1104\u001b[0m         \u001b[0mfull_backward_hooks\u001b[0m\u001b[0;34m,\u001b[0m \u001b[0mnon_full_backward_hooks\u001b[0m \u001b[0;34m=\u001b[0m \u001b[0;34m[\u001b[0m\u001b[0;34m]\u001b[0m\u001b[0;34m,\u001b[0m \u001b[0;34m[\u001b[0m\u001b[0;34m]\u001b[0m\u001b[0;34m\u001b[0m\u001b[0;34m\u001b[0m\u001b[0m\n",
      "\u001b[0;32m/data/proskuryakova/.local/lib/python3.6/site-packages/transformers/models/bert/modeling_bert.py\u001b[0m in \u001b[0;36mforward\u001b[0;34m(self, input_ids, attention_mask, token_type_ids, position_ids, head_mask, inputs_embeds, encoder_hidden_states, encoder_attention_mask, past_key_values, use_cache, output_attentions, output_hidden_states, return_dict)\u001b[0m\n\u001b[1;32m    992\u001b[0m             \u001b[0mtoken_type_ids\u001b[0m\u001b[0;34m=\u001b[0m\u001b[0mtoken_type_ids\u001b[0m\u001b[0;34m,\u001b[0m\u001b[0;34m\u001b[0m\u001b[0;34m\u001b[0m\u001b[0m\n\u001b[1;32m    993\u001b[0m             \u001b[0minputs_embeds\u001b[0m\u001b[0;34m=\u001b[0m\u001b[0minputs_embeds\u001b[0m\u001b[0;34m,\u001b[0m\u001b[0;34m\u001b[0m\u001b[0;34m\u001b[0m\u001b[0m\n\u001b[0;32m--> 994\u001b[0;31m             \u001b[0mpast_key_values_length\u001b[0m\u001b[0;34m=\u001b[0m\u001b[0mpast_key_values_length\u001b[0m\u001b[0;34m,\u001b[0m\u001b[0;34m\u001b[0m\u001b[0;34m\u001b[0m\u001b[0m\n\u001b[0m\u001b[1;32m    995\u001b[0m         )\n\u001b[1;32m    996\u001b[0m         encoder_outputs = self.encoder(\n",
      "\u001b[0;32m/data/proskuryakova/.local/lib/python3.6/site-packages/torch/nn/modules/module.py\u001b[0m in \u001b[0;36m_call_impl\u001b[0;34m(self, *input, **kwargs)\u001b[0m\n\u001b[1;32m   1100\u001b[0m         if not (self._backward_hooks or self._forward_hooks or self._forward_pre_hooks or _global_backward_hooks\n\u001b[1;32m   1101\u001b[0m                 or _global_forward_hooks or _global_forward_pre_hooks):\n\u001b[0;32m-> 1102\u001b[0;31m             \u001b[0;32mreturn\u001b[0m \u001b[0mforward_call\u001b[0m\u001b[0;34m(\u001b[0m\u001b[0;34m*\u001b[0m\u001b[0minput\u001b[0m\u001b[0;34m,\u001b[0m \u001b[0;34m**\u001b[0m\u001b[0mkwargs\u001b[0m\u001b[0;34m)\u001b[0m\u001b[0;34m\u001b[0m\u001b[0;34m\u001b[0m\u001b[0m\n\u001b[0m\u001b[1;32m   1103\u001b[0m         \u001b[0;31m# Do not call functions when jit is used\u001b[0m\u001b[0;34m\u001b[0m\u001b[0;34m\u001b[0m\u001b[0;34m\u001b[0m\u001b[0m\n\u001b[1;32m   1104\u001b[0m         \u001b[0mfull_backward_hooks\u001b[0m\u001b[0;34m,\u001b[0m \u001b[0mnon_full_backward_hooks\u001b[0m \u001b[0;34m=\u001b[0m \u001b[0;34m[\u001b[0m\u001b[0;34m]\u001b[0m\u001b[0;34m,\u001b[0m \u001b[0;34m[\u001b[0m\u001b[0;34m]\u001b[0m\u001b[0;34m\u001b[0m\u001b[0;34m\u001b[0m\u001b[0m\n",
      "\u001b[0;32m/data/proskuryakova/.local/lib/python3.6/site-packages/transformers/models/bert/modeling_bert.py\u001b[0m in \u001b[0;36mforward\u001b[0;34m(self, input_ids, token_type_ids, position_ids, inputs_embeds, past_key_values_length)\u001b[0m\n\u001b[1;32m    218\u001b[0m         \u001b[0;32mif\u001b[0m \u001b[0mself\u001b[0m\u001b[0;34m.\u001b[0m\u001b[0mposition_embedding_type\u001b[0m \u001b[0;34m==\u001b[0m \u001b[0;34m\"absolute\"\u001b[0m\u001b[0;34m:\u001b[0m\u001b[0;34m\u001b[0m\u001b[0;34m\u001b[0m\u001b[0m\n\u001b[1;32m    219\u001b[0m             \u001b[0mposition_embeddings\u001b[0m \u001b[0;34m=\u001b[0m \u001b[0mself\u001b[0m\u001b[0;34m.\u001b[0m\u001b[0mposition_embeddings\u001b[0m\u001b[0;34m(\u001b[0m\u001b[0mposition_ids\u001b[0m\u001b[0;34m)\u001b[0m\u001b[0;34m\u001b[0m\u001b[0;34m\u001b[0m\u001b[0m\n\u001b[0;32m--> 220\u001b[0;31m             \u001b[0membeddings\u001b[0m \u001b[0;34m+=\u001b[0m \u001b[0mposition_embeddings\u001b[0m\u001b[0;34m\u001b[0m\u001b[0;34m\u001b[0m\u001b[0m\n\u001b[0m\u001b[1;32m    221\u001b[0m         \u001b[0membeddings\u001b[0m \u001b[0;34m=\u001b[0m \u001b[0mself\u001b[0m\u001b[0;34m.\u001b[0m\u001b[0mLayerNorm\u001b[0m\u001b[0;34m(\u001b[0m\u001b[0membeddings\u001b[0m\u001b[0;34m)\u001b[0m\u001b[0;34m\u001b[0m\u001b[0;34m\u001b[0m\u001b[0m\n\u001b[1;32m    222\u001b[0m         \u001b[0membeddings\u001b[0m \u001b[0;34m=\u001b[0m \u001b[0mself\u001b[0m\u001b[0;34m.\u001b[0m\u001b[0mdropout\u001b[0m\u001b[0;34m(\u001b[0m\u001b[0membeddings\u001b[0m\u001b[0;34m)\u001b[0m\u001b[0;34m\u001b[0m\u001b[0;34m\u001b[0m\u001b[0m\n",
      "\u001b[0;31mRuntimeError\u001b[0m: The size of tensor a (1034) must match the size of tensor b (512) at non-singleton dimension 1"
     ]
    }
   ],
   "source": [
    "from transformers import AutoTokenizer, AutoModel\n",
    "import torch\n",
    "\n",
    "device = 'cuda' if torch.cuda.is_available() else 'cpu'\n",
    "\n",
    "#Mean Pooling - Take attention mask into account for correct averaging\n",
    "def mean_pooling(model_output, attention_mask):\n",
    "    token_embeddings = model_output[0] #First element of model_output contains all token embeddings\n",
    "    input_mask_expanded = attention_mask.unsqueeze(-1).expand(token_embeddings.size()).float()\n",
    "    sum_embeddings = torch.sum(token_embeddings * input_mask_expanded, 1)\n",
    "    sum_mask = torch.clamp(input_mask_expanded.sum(1), min=1e-9)\n",
    "    return sum_embeddings / sum_mask\n",
    "\n",
    "\n",
    "\n",
    "#Sentences we want sentence embeddings for\n",
    "sentences = ['Привет! Как твои дела?',\n",
    "             'А правда, что 42 твое любимое число?']\n",
    "\n",
    "#Load AutoModel from huggingface model repository\n",
    "tokenizer = AutoTokenizer.from_pretrained(\"sberbank-ai/sbert_large_nlu_ru\")\n",
    "model = AutoModel.from_pretrained(\"sberbank-ai/sbert_large_nlu_ru\")\n",
    "\n",
    "#Tokenize sentences\n",
    "encoded_input = tokenizer(data2, padding=True, truncation=True, max_length = 10000, return_tensors='pt')\n",
    "print(encoded_input)\n",
    "encoded_input = encoded_input.to(device)\n",
    "print(encoded_input)\n",
    "#Compute token embeddings\n",
    "model.to(device)\n",
    "with torch.no_grad():\n",
    "    model_output = model(**encoded_input)\n",
    "\n",
    "#Perform pooling. In this case, mean pooling\n",
    "sentence_embeddings = mean_pooling(model_output, encoded_input['attention_mask'])"
   ]
  },
  {
   "cell_type": "code",
   "execution_count": 89,
   "metadata": {},
   "outputs": [],
   "source": [
    "import re\n",
    "data2 = re.sub(r'[^\\w\\s]', ' ', data).replace('  ', ' ')[512:]"
   ]
  },
  {
   "cell_type": "code",
   "execution_count": null,
   "metadata": {},
   "outputs": [],
   "source": []
  },
  {
   "cell_type": "code",
   "execution_count": 81,
   "metadata": {},
   "outputs": [],
   "source": [
    "with open('/data/burenko/datasets/pet-ct/LRC_2414-2614_990004936_70004019.txt.txt', 'r') as file:\n",
    "    data = file.read().rstrip().replace('\\n', ' ')"
   ]
  },
  {
   "cell_type": "code",
   "execution_count": 82,
   "metadata": {},
   "outputs": [
    {
     "data": {
      "text/plain": [
       "'ПЭТ/КТ-всего тела(от затылочной кости до средней трети бедра)  Дата приема: 09.04.2018 Номер карты: 990004933 Пол: Жен Возраст: 59 Дата рождения: 18.05.1958 Наименование медицинской техники: Позитронно-эмиссионный томограф, совмещенный с компьютерным томографом / GE Discovery 610 Радиофармпрепарат: 18Е-ФДГ Введено в/в: 280 Время введения РФП: 09:44 Эффективная доза РФГП: 5.3 Эффективная доза КТ: 16.5 Единицы измерения ($/\\\\тах): 5/т!* $ИМЬт Контрастное вещество Рег о5: Урографин 76% - 10мл (водный раствор) Контрастное усиление в/в: нет Аллергическая реакция: нет  Причина обращения: рак (инфильтративный низкодифференцированный плоскоклеточный) пищевода. Резекция пищевода с одномоментной пластикой в апреле 2016 г.  Область головы (частично, от орбитомеатальной линии) и шеи: На серии ПЭТ/КТ всего тела (сканирование проведено от орбито-меатальной линии до нижней/трети бедра) при исследовании метаболизма глюкозы по стандартному протоколу без в/в введения йодсодержащего препарата в аксиальной проекции КТ с проведением ряда реконструкций ПЭТ:  Глазные яблоки, зрительные нервы, ретробульбарные пространства не изменены. Пневматизация пазух носа не нарушена. Слюнные железы без особенностей.  Анатомия полости рта и ротоглотки без особенностей. Глотка и гортань анатомически правильно развиты. Их контуры ровные и четкие, стенки не утолщены.  Щитовидная железа расположена обычно, размеры ее долей не увеличены. Доли щитовидной железы имеют ровные и четкие контуры, однородную структуру.  Патологических образований в области мягких тканей шеи не выявлено. Лимфатические узлы не увеличены. Очагов патологического метаболизма ФДГ нет. Физиологическая гиперфиксация РФП в ротоглотке, носоглотке.  Органы грудной клетки: В над- и подключичной области с 2-х сторон л/узлы не увеличены. По ходу анастомоза и п/операционных скрепок гиперфиксации ФДГ нет.  В $1 справа с прорастанием в плевру и деструкцией заднего отрезка !!! ребра протяженностью до 33 мм, определяется объемное образование, размером до 40х35 мм с гиперфиксацией ФДГ ($/\\\\Мтах=16,51).  Определяется тотальная деструкция | ребра слева, на фоне чего в проекции ребра на всем протяжении определяется метаболически активная ткань, толщиной до 35 мм ($/\\\\/тах=13,74)  В субплевральных отделах 58 справа определяется мягкотканый участок паренхимы, размером до 23х7 мм без гиперфиксации ФДГ.  Средостение не смещено и не расширено. Увеличенных, метаболически активных лимфатических узлов средостения и корней левого легкого не визуализируется. В корне правого легкого определяется единичный метболически активный л/узел, размером до 8 мм в диаметре, с гиперфиксацией ФДГ ($/\\\\тах=4,71).  В плевральных полостях и полости перикарда экссудата нет.  В молочной железе с обеих сторон очагов гиперфиксации ФДГ не определяется. На границе наружных квадрантов правой молочной железы определяется кальцинат, размером до 10Х7 мм.  В аксиллярной области с 2-х сторон л\\\\узлы не увеличены.  Органы брюшной полости: Печень обычно расположена, в размерах не увеличена, очагов патологического метаболизма ФДГ в структуре паренхимы нет.  Желчный пузырь типично расположен, рентгенконтрастных конкрементов не визуализируется. Холедох не расширен. Поджелудочная железа в размерах не увеличена, компактного строения, очагов гиперметаболизма ФДГ нет. Парапанкреатическая клетчатка - без инфильтративных изменений.  Селезенка в размерах не увеличена с четкими ровными контурами, в структуре паренхимы очаговых изменений нет. Надпочечники обычно расположены, в структуре очагов гиперфиксации ФДГ нет. Почки расположены обычно, контур четкий, ровный. В паренхиме достоверно очаговых изменений нет.ЧЛС с 2-х сторон сформирована обычно, не деформирована, не расширена, рентгенконтрастных конкрементов нет.  Л/узлы брюшной полости и забрюшинного пространства не увеличены.  Отмечаются множественные мелкие забрюшинные л/узлы на всех уровнях, размером до 8 мм в диаметре, без гиперфиксации ФДГ.  Свободной жидкости в брюшной полости нет.  Органы малого таза: Дополнительных образований в области таза не визуализируется. Клетчатка не изменена. Тазовые и периферические лимфатические узлы не увеличены.Очагов патологического метаболизма ФДГ не выявлено. Физиологическая гиперфиксация РФП в мочевом пузыре, по ходу дистальных отделов толстой кишки.  Костная система: Признаков остеобластических или остеолитических изменений с патологической гиперфиксацией РФП за исключение описанных ранее не выявлено.  Диагноз по МКБ-10: {С15.2} Абдоминального отдела пищевода {Открыт }  Заключение: При ПЭТ/КТ с 18Е-ФДГ получены данные о наличии активной специфической ткани в правом легком, в стенке \\x0cлевого гемиторакса с деструкцией описанных костей, так же вл/узле корня правого легкого (мтс). Мягкотканый участок паренхимы в нижней доле правого легкого без гиперфиксации ФДГ. Забрюшинная количественная лимфоаденопатия без гиперфиксации ФДГ.  Совпадение с (направляемым) диагнозом в направлении по локализации первичного очага : Да Первично-множественный рак: Нет  М5 поражения: Да  Исследование: Первичное  Эффективность лечения при повторных исследованиях: -  Лучевая терапия: Нет  Нейроэндокринная опухоль(негативный вариант): Нет  Химиотерапия: Нет  Оперативные вмешательства: Да  Т:х  N: x  M: x  Визуализация: после лечения  Гистология: инфильтративный низкодифференцированный плоскоклеточный Выполнение диагностической услуги: Выполнена в полном объеме Диагноз: Подтверждён и детализирован  Оценка качества ведения документации: Удовлетворительное  Заключение по соответствию требованиям: Соответствует  Примечание: Нет  Объем введенного РФП соответствует полученному результату сканирования: Да Экстравазация: Нет  Укладка сделанная лаборантом: правильная  Качество КТ-сканирования: Хорошее  Исследование проведено по показанию: Да  Исследование выполнено в полном объеме: Да  Оценка качества ведения документации: удовлетворительно'"
      ]
     },
     "execution_count": 82,
     "metadata": {},
     "output_type": "execute_result"
    }
   ],
   "source": [
    "data"
   ]
  },
  {
   "cell_type": "code",
   "execution_count": 2,
   "metadata": {},
   "outputs": [],
   "source": [
    "a = dict(zip(['a', 'b'], [2, 3]))"
   ]
  },
  {
   "cell_type": "code",
   "execution_count": 4,
   "metadata": {},
   "outputs": [],
   "source": [
    "a.update(zip(['c'], ['device']))"
   ]
  },
  {
   "cell_type": "code",
   "execution_count": 5,
   "metadata": {},
   "outputs": [],
   "source": [
    "import sys, os\n",
    "\n",
    "apex_support = False\n",
    "try:\n",
    "    sys.path.append('./apex')\n",
    "    from apex import amp\n",
    "\n",
    "    apex_support = True\n",
    "except:\n",
    "    print(\"Please install apex for mixed precision training from: https://github.com/NVIDIA/apex\")\n",
    "    apex_support = False"
   ]
  },
  {
   "cell_type": "code",
   "execution_count": 4,
   "metadata": {},
   "outputs": [],
   "source": [
    "from apex import amp"
   ]
  },
  {
   "cell_type": "code",
   "execution_count": null,
   "metadata": {},
   "outputs": [],
   "source": []
  },
  {
   "cell_type": "code",
   "execution_count": 3,
   "metadata": {},
   "outputs": [
    {
     "name": "stdout",
     "output_type": "stream",
     "text": [
      "Found existing installation: apex 0.9.10.dev0\n",
      "Uninstalling apex-0.9.10.dev0:\n",
      "  Would remove:\n",
      "    /data/proskuryakova/.local/lib/python3.6/site-packages/apex-0.9.10.dev0.dist-info/*\n",
      "    /data/proskuryakova/.local/lib/python3.6/site-packages/apex/*\n",
      "Proceed (Y/n)? ^C\n",
      "\u001b[31mERROR: Operation cancelled by user\u001b[0m\n"
     ]
    }
   ],
   "source": [
    "!pip uninstall apex"
   ]
  }
 ],
 "metadata": {
  "kernelspec": {
   "display_name": "Python 3",
   "language": "python",
   "name": "python3"
  },
  "language_info": {
   "codemirror_mode": {
    "name": "ipython",
    "version": 3
   },
   "file_extension": ".py",
   "mimetype": "text/x-python",
   "name": "python",
   "nbconvert_exporter": "python",
   "pygments_lexer": "ipython3",
   "version": "3.6.9"
  }
 },
 "nbformat": 4,
 "nbformat_minor": 4
}
