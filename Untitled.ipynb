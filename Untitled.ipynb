{
 "cells": [
  {
   "cell_type": "code",
   "execution_count": 1,
   "metadata": {},
   "outputs": [],
   "source": [
    "import warnings\n",
    "warnings.filterwarnings(\"ignore\")"
   ]
  },
  {
   "cell_type": "code",
   "execution_count": 2,
   "metadata": {},
   "outputs": [],
   "source": [
    "import os\n",
    "os.environ[\"TOKENIZERS_PARALLELISM\"] = \"false\""
   ]
  },
  {
   "cell_type": "code",
   "execution_count": 3,
   "metadata": {},
   "outputs": [],
   "source": [
    "%load_ext tensorboard"
   ]
  },
  {
   "cell_type": "code",
   "execution_count": 4,
   "metadata": {
    "tags": []
   },
   "outputs": [
    {
     "data": {
      "text/html": [
       "\n",
       "      <iframe id=\"tensorboard-frame-af93a992e7e953ac\" width=\"100%\" height=\"800\" frameborder=\"0\">\n",
       "      </iframe>\n",
       "      <script>\n",
       "        (function() {\n",
       "          const frame = document.getElementById(\"tensorboard-frame-af93a992e7e953ac\");\n",
       "          const url = new URL(\"/\", window.location);\n",
       "          const port = 16007;\n",
       "          if (port) {\n",
       "            url.port = port;\n",
       "          }\n",
       "          frame.src = url;\n",
       "        })();\n",
       "      </script>\n",
       "    "
      ],
      "text/plain": [
       "<IPython.core.display.HTML object>"
      ]
     },
     "metadata": {},
     "output_type": "display_data"
    }
   ],
   "source": [
    "tensorboard --logdir='experiments/version_bs_2_petct3' --port=16007"
   ]
  },
  {
   "cell_type": "code",
   "execution_count": null,
   "metadata": {
    "tags": []
   },
   "outputs": [
    {
     "name": "stdout",
     "output_type": "stream",
     "text": [
      "/usr/lib/python3.6/importlib/__init__.py:126: FutureWarning: MLflow support for Python 3.6 is deprecated and will be dropped in an upcoming release. At that point, existing Python 3.6 workflows that use MLflow will continue to work without modification, but Python 3.6 users will no longer get access to the latest MLflow features and bugfixes. We recommend that you upgrade to Python 3.7 or newer.\n",
      "  return _bootstrap._gcd_import(name[level:], package, level)\n",
      "\"accumulate_grad_batches\": 1\n",
      "\"alpha_weight\":            0.75\n",
      "\"batch_size\":              2\n",
      "\"bucket_size\":             32\n",
      "\"divided_text\":            True\n",
      "\"freeze_layers\":           [0, 1, 2, 3, 4, 5]\n",
      "\"gpus\":                    [0, 3]\n",
      "\"image_encoder_model\":     resnet18_3D\n",
      "\"learning_rate\":           1e-05\n",
      "\"loader_workers\":          6\n",
      "\"max_epochs\":              100\n",
      "\"metric_mode\":             max\n",
      "\"min_epochs\":              1\n",
      "\"monitor\":                 val_loss\n",
      "\"name_board\":              bs_2_petct3\n",
      "\"out_dim\":                 300\n",
      "\"path_to_data\":            /data/burenko/datasets/pet-ct\n",
      "\"patience\":                3\n",
      "\"save_top_k\":              1\n",
      "\"seed\":                    3\n",
      "\"temperature\":             1e-05\n",
      "\"text_encoder_model\":      DeepPavlov/rubert-base-cased-sentence\n",
      "\"use_cosine_similarity\":   True\n",
      "\"val_check_interval\":      2.0\n",
      "\"valid_size\":              0.2\n",
      "Text feature extractor: DeepPavlov/rubert-base-cased-sentence\n",
      "Image feature extractor: resnet18_3D\n",
      "Using 16bit native Automatic Mixed Precision (AMP)\n",
      "GPU available: True, used: True\n",
      "TPU available: False, using: 0 TPU cores\n",
      "IPU available: False, using: 0 IPUs\n",
      "START TRAINING\n",
      "/usr/lib/python3.6/importlib/__init__.py:126: FutureWarning: MLflow support for Python 3.6 is deprecated and will be dropped in an upcoming release. At that point, existing Python 3.6 workflows that use MLflow will continue to work without modification, but Python 3.6 users will no longer get access to the latest MLflow features and bugfixes. We recommend that you upgrade to Python 3.7 or newer.\n",
      "  return _bootstrap._gcd_import(name[level:], package, level)\n",
      "\"accumulate_grad_batches\": 1\n",
      "\"alpha_weight\":            0.75\n",
      "\"batch_size\":              2\n",
      "\"bucket_size\":             32\n",
      "\"divided_text\":            True\n",
      "\"freeze_layers\":           [0, 1, 2, 3, 4, 5]\n",
      "\"gpus\":                    [0, 3]\n",
      "\"image_encoder_model\":     resnet18_3D\n",
      "\"learning_rate\":           1e-05\n",
      "\"loader_workers\":          6\n",
      "\"max_epochs\":              100\n",
      "\"metric_mode\":             max\n",
      "\"min_epochs\":              1\n",
      "\"monitor\":                 val_loss\n",
      "\"name_board\":              bs_2_petct3\n",
      "\"out_dim\":                 300\n",
      "\"path_to_data\":            /data/burenko/datasets/pet-ct\n",
      "\"patience\":                3\n",
      "\"save_top_k\":              1\n",
      "\"seed\":                    3\n",
      "\"temperature\":             1e-05\n",
      "\"text_encoder_model\":      DeepPavlov/rubert-base-cased-sentence\n",
      "\"use_cosine_similarity\":   True\n",
      "\"val_check_interval\":      2.0\n",
      "\"valid_size\":              0.2\n",
      "initializing distributed: GLOBAL_RANK: 0, MEMBER: 1/2\n",
      "Text feature extractor: DeepPavlov/rubert-base-cased-sentence\n",
      "Image feature extractor: resnet18_3D\n",
      "START TRAINING\n",
      "initializing distributed: GLOBAL_RANK: 1, MEMBER: 2/2\n",
      "----------------------------------------------------------------------------------------------------\n",
      "distributed_backend=nccl\n",
      "All distributed processes registered. Starting with 2 processes\n",
      "----------------------------------------------------------------------------------------------------\n",
      "\n",
      "LOCAL_RANK: 0 - CUDA_VISIBLE_DEVICES: [0,1,2,3]\n",
      "LOCAL_RANK: 1 - CUDA_VISIBLE_DEVICES: [0,1,2,3]\n",
      "\n",
      "  | Name      | Type       | Params\n",
      "-----------------------------------------\n",
      "0 | model_pet | ModelPET   | 213 M \n",
      "1 | _loss     | NTXentLoss | 0     \n",
      "-----------------------------------------\n",
      "171 M     Trainable params\n",
      "42.5 M    Non-trainable params\n",
      "213 M     Total params\n",
      "427.938   Total estimated model params size (MB)\n",
      "Epoch 0:   0%|                                           | 0/46 [00:00<?, ?it/s]Asking to truncate to max_length but no maximum length is provided and the model has no predefined maximum length. Default to no truncation.\n",
      "Asking to truncate to max_length but no maximum length is provided and the model has no predefined maximum length. Default to no truncation.\n",
      "Epoch 0:  59%|▌| 27/46 [00:59<00:41,  2.20s/it, loss=405, v_num=3_v2, train_loss"
     ]
    }
   ],
   "source": [
    "!python3 training.py --batch_size 2 --loader_workers 6 --max_epochs 100 --image_encoder_model 'resnet18_3D' --name_board 'bs_2_petct3'"
   ]
  },
  {
   "cell_type": "code",
   "execution_count": 3,
   "metadata": {},
   "outputs": [],
   "source": [
    "chk_path = \"./experiments/version_01-06-2021--18-09-58/checkpoints/epoch=2-step=315.ckpt\"\n",
    "model_saved = model.load_from_checkpoint(chk_path)"
   ]
  },
  {
   "cell_type": "code",
   "execution_count": 7,
   "metadata": {},
   "outputs": [
    {
     "data": {
      "text/plain": [
       "Parameter containing:\n",
       "tensor([9.8449e-36, 0.0000e+00], requires_grad=True)"
      ]
     },
     "execution_count": 7,
     "metadata": {},
     "output_type": "execute_result"
    }
   ],
   "source": [
    "data = torch.Tensor(2)\n",
    "torch.nn.Parameter(data = data)"
   ]
  }
 ],
 "metadata": {
  "kernelspec": {
   "display_name": "Python 3",
   "language": "python",
   "name": "python3"
  },
  "language_info": {
   "codemirror_mode": {
    "name": "ipython",
    "version": 3
   },
   "file_extension": ".py",
   "mimetype": "text/x-python",
   "name": "python",
   "nbconvert_exporter": "python",
   "pygments_lexer": "ipython3",
   "version": "3.6.9"
  }
 },
 "nbformat": 4,
 "nbformat_minor": 4
}
